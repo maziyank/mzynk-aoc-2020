{
 "cells": [
  {
   "cell_type": "code",
   "execution_count": 1,
   "metadata": {},
   "outputs": [],
   "source": [
    "# ADVENT OF CODE\n",
    "# https://adventofcode.com/2020/day/7\n",
    "\n",
    "# PREPARE DATA\n",
    "inputfile = open('input.sql', 'r')\n",
    "bags = [line.strip() for line in inputfile]"
   ]
  },
  {
   "cell_type": "markdown",
   "metadata": {},
   "source": [
    "## PROBLEM 1"
   ]
  },
  {
   "cell_type": "code",
   "execution_count": 2,
   "metadata": {},
   "outputs": [],
   "source": [
    "def checkContain(color): \n",
    "    return [[bag, checkContain(bag)] for (bag, isi) in [bag.split('s contain ') for bag in bags if bag.find(color, 1) > 0]]\n",
    "\n",
    "possiblebags = checkContain('shiny gold')\n",
    "# the result is nested list"
   ]
  },
  {
   "cell_type": "code",
   "execution_count": 3,
   "metadata": {},
   "outputs": [
    {
     "data": {
      "text/plain": [
       "'Bag colors can eventually contain at least one shiny gold bag : 148'"
      ]
     },
     "execution_count": 3,
     "metadata": {},
     "output_type": "execute_result"
    }
   ],
   "source": [
    "# since the result is nested list we have to make it flat\n",
    "flatten = lambda *n: (e for a in n for e in (flatten(*a) if type(a) == list else [a,]))            \n",
    "output = flatten(possiblebags)\n",
    "\"Bag colors can eventually contain at least one shiny gold bag : \" + str(len(set(output)))"
   ]
  },
  {
   "cell_type": "markdown",
   "metadata": {},
   "source": [
    "## PROBLEM 2"
   ]
  },
  {
   "cell_type": "code",
   "execution_count": 4,
   "metadata": {},
   "outputs": [],
   "source": [
    "def BagsTree(color): \n",
    "    temp1 = [a for a in [bag.split('contain ')[1].split(', ') for bag in bags if bag.find(color) == 0]][0]\n",
    "    \n",
    "    if temp1[0] == 'no other bags.':\n",
    "        return []\n",
    "    else:\n",
    "        return [{\"color\": key, \"count\": count, \"children\": BagsTree(key)} for \n",
    "                key, count in [(' '.join(x[1:].split()[:2]), int(x[0])) for x in temp1]]\n",
    "\n",
    "aBagsTree = BagsTree('shiny gold')"
   ]
  },
  {
   "cell_type": "code",
   "execution_count": 5,
   "metadata": {},
   "outputs": [],
   "source": [
    "def countBags(data):\n",
    "    count = 0    \n",
    "    for bag in data:\n",
    "        count += bag['count'] + bag['count'] * countBags(bag['children'])\n",
    "        \n",
    "    return count"
   ]
  },
  {
   "cell_type": "code",
   "execution_count": 6,
   "metadata": {},
   "outputs": [
    {
     "data": {
      "text/plain": [
       "'Individual bags inside a shiny gold bag : 24867'"
      ]
     },
     "execution_count": 6,
     "metadata": {},
     "output_type": "execute_result"
    }
   ],
   "source": [
    "\"Individual bags inside a shiny gold bag : \" + str(countBags(aBagsTree))"
   ]
  }
 ],
 "metadata": {
  "kernelspec": {
   "display_name": "Python 3",
   "language": "python",
   "name": "python3"
  },
  "language_info": {
   "codemirror_mode": {
    "name": "ipython",
    "version": 3
   },
   "file_extension": ".py",
   "mimetype": "text/x-python",
   "name": "python",
   "nbconvert_exporter": "python",
   "pygments_lexer": "ipython3",
   "version": "3.8.1"
  }
 },
 "nbformat": 4,
 "nbformat_minor": 4
}
