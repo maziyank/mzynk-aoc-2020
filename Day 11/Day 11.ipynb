{
 "cells": [
  {
   "cell_type": "code",
   "execution_count": 1,
   "metadata": {},
   "outputs": [],
   "source": [
    "# ADVENT OF CODE\n",
    "# https://adventofcode.com/2020/day/9\n",
    "\n",
    "# PREPARE DATA\n",
    "inputfile = open('sample.sql', 'r')\n",
    "seats = [list(line.strip()) for line in inputfile]"
   ]
  },
  {
   "cell_type": "markdown",
   "metadata": {},
   "source": [
    "## PROBLEM 1"
   ]
  },
  {
   "cell_type": "code",
   "execution_count": 2,
   "metadata": {},
   "outputs": [],
   "source": [
    "def getAdjacent(data, row, col):\n",
    "    result = []\n",
    "    for i in range(max(0,row-1), min(len(data),row+2)):\n",
    "        for j in range(max(0,col-1),min(len(data[i]), col+2)):            \n",
    "            if not (i == row and j == col):\n",
    "                if data[i][j] != '.': \n",
    "                    result.append((i,j))\n",
    "    \n",
    "    return result"
   ]
  },
  {
   "cell_type": "code",
   "execution_count": 3,
   "metadata": {},
   "outputs": [],
   "source": [
    "import copy \n",
    "\n",
    "def applyRules(the_data):\n",
    "    data = copy.deepcopy(the_data)\n",
    "    change_count = 0\n",
    "    \n",
    "    for i in range(len(data)):\n",
    "        for j in range(len(data[i])):\n",
    "            adjacents = getAdjacent(the_data,i,j)            \n",
    "            adjacents_state = [the_data[i][j] for i,j in adjacents]    \n",
    "            \n",
    "            if the_data[i][j] == 'L' and adjacents_state.count('#') == 0:\n",
    "                data[i][j] = '#'\n",
    "                change_count += 1\n",
    "                        \n",
    "            if the_data[i][j] == '#' and adjacents_state.count('#') >= 4:\n",
    "                data[i][j] = 'L' \n",
    "                change_count += 1\n",
    "                                              \n",
    "    return data, change_count"
   ]
  },
  {
   "cell_type": "code",
   "execution_count": 4,
   "metadata": {},
   "outputs": [
    {
     "data": {
      "text/plain": [
       "'ANSWER 1: 37'"
      ]
     },
     "execution_count": 4,
     "metadata": {},
     "output_type": "execute_result"
    }
   ],
   "source": [
    "prev_layout = seats\n",
    "fixed = False\n",
    "while not fixed:\n",
    "    prev_layout, chng = applyRules(prev_layout)\n",
    "    if chng == 0:\n",
    "        fixed = True\n",
    "\n",
    "\"ANSWER 1: \" + str(sum([x.count(\"#\") for x in prev_layout]))"
   ]
  },
  {
   "cell_type": "markdown",
   "metadata": {},
   "source": [
    "## PROBLEM 2"
   ]
  },
  {
   "cell_type": "code",
   "execution_count": 5,
   "metadata": {},
   "outputs": [],
   "source": [
    "def lookAround(data, row, col):\n",
    "    directions = [(1,0),(0,1),(-1,0),(0,-1),(1,1),(-1,-1),(1,-1),(-1,1)]    \n",
    "    result = []\n",
    "    for x, y in directions:        \n",
    "        seen = False\n",
    "        i = row + x\n",
    "        j = col + y\n",
    "        while not seen:       \n",
    "            try:\n",
    "                if data[i][j] != \".\":\n",
    "                    result.append((i, j))\n",
    "                    seen = True\n",
    "                else:\n",
    "                    i += x\n",
    "                    j += y\n",
    "            except:\n",
    "                break\n",
    "    \n",
    "    return result"
   ]
  },
  {
   "cell_type": "code",
   "execution_count": 6,
   "metadata": {},
   "outputs": [],
   "source": [
    "def applyRules2(the_data):\n",
    "    data = copy.deepcopy(the_data)\n",
    "    change_count = 0\n",
    "    adjacents = []\n",
    "    \n",
    "    for i in range(len(data)):\n",
    "        for j in range(len(data[i])):   \n",
    "            adjacents = lookAround(the_data, i, j)\n",
    "            adjacents_state = [the_data[i][j] for i,j in adjacents if (i >= 0 and j >= 0)]    \n",
    "            \n",
    "            if the_data[i][j] == 'L' and adjacents_state.count('#') == 0:\n",
    "                data[i][j] = '#'\n",
    "                change_count += 1\n",
    "                        \n",
    "            if the_data[i][j] == '#' and adjacents_state.count('#') > 4:\n",
    "                data[i][j] = 'L' \n",
    "                change_count += 1\n",
    "            \n",
    "            adjacents = []\n",
    "                                              \n",
    "    return data, change_count"
   ]
  },
  {
   "cell_type": "code",
   "execution_count": 7,
   "metadata": {},
   "outputs": [
    {
     "data": {
      "text/plain": [
       "'ANSWER 2: 26'"
      ]
     },
     "execution_count": 7,
     "metadata": {},
     "output_type": "execute_result"
    }
   ],
   "source": [
    "prev_layout = seats\n",
    "fixed = False\n",
    "while not fixed:\n",
    "    prev_layout, chng = applyRules2(prev_layout)\n",
    "    if chng == 0:\n",
    "        fixed = True\n",
    "\n",
    "\"ANSWER 2: \" + str(sum([x.count(\"#\") for x in prev_layout]))"
   ]
  }
 ],
 "metadata": {
  "kernelspec": {
   "display_name": "Python 3",
   "language": "python",
   "name": "python3"
  },
  "language_info": {
   "codemirror_mode": {
    "name": "ipython",
    "version": 3
   },
   "file_extension": ".py",
   "mimetype": "text/x-python",
   "name": "python",
   "nbconvert_exporter": "python",
   "pygments_lexer": "ipython3",
   "version": "3.8.1"
  }
 },
 "nbformat": 4,
 "nbformat_minor": 4
}
