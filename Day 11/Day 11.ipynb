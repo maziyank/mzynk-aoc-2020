{
 "cells": [
  {
   "cell_type": "code",
   "execution_count": 1,
   "metadata": {},
   "outputs": [],
   "source": [
    "# ADVENT OF CODE\n",
    "# https://adventofcode.com/2020/day/11\n",
    "\n",
    "# PREPARE DATA\n",
    "inputfile = open('input.sql', 'r')\n",
    "seats = [list(line.strip()) for line in inputfile]"
   ]
  },
  {
   "cell_type": "code",
   "execution_count": 2,
   "metadata": {},
   "outputs": [],
   "source": [
    "import copy \n",
    "\n",
    "def lookAround(data, row, col, stop_sign_rule):  \n",
    "    adjacents = []\n",
    "    len_i = len(data)    \n",
    "    len_j = len(data[0])\n",
    "    \n",
    "    for x in (-1, 0, 1):\n",
    "        for y in (-1, 0, 1):\n",
    "            if x == 0 and y == 0:\n",
    "                continue\n",
    "                \n",
    "            i = row + x\n",
    "            j = col + y\n",
    "            while True:                        \n",
    "                if (0 <= i < len_i and 0 <= j < len_j):                               \n",
    "                    if data[i][j] in stop_sign_rule:\n",
    "                        adjacents.append(data[i][j])\n",
    "                        break\n",
    "                    else:\n",
    "                        i += x\n",
    "                        j += y\n",
    "                else:\n",
    "                    break\n",
    "                \n",
    "    return adjacents\n",
    "\n",
    "def applyRules(original_data, stop_sign_rule, min_adj_seats_rule):\n",
    "    data = copy.deepcopy(original_data)\n",
    "    layout_changed = False    \n",
    "    len_i = len(data)    \n",
    "    len_j = len(data[0])\n",
    "    \n",
    "   \n",
    "    for i in range(len_i):\n",
    "        for j in range(len_j):      \n",
    "            adjacents_state = lookAround(original_data,i,j, stop_sign_rule)    \n",
    "            \n",
    "            # Rule 1 -> If a seat is empty (L) and there are no occupied seats adjacent to it, the seat becomes occupied.\n",
    "            if original_data[i][j] == 'L' and adjacents_state.count('#') == 0:\n",
    "                data[i][j] = '#'\n",
    "                layout_changed = True\n",
    "            \n",
    "            # Rule 2 -> If a seat is occupied (#) and n seats adjacent to it are also occupied, the seat becomes empty.\n",
    "            elif original_data[i][j] == '#' and adjacents_state.count('#') >= min_adj_seats_rule:\n",
    "                data[i][j] = 'L' \n",
    "                layout_changed = True\n",
    "                                              \n",
    "    return data, layout_changed\n",
    "\n",
    "def search_layout(data, stop_sign_rule = \"L#.\", min_adj_seats_rule = 4):\n",
    "    prev_layout = data\n",
    "    while True:\n",
    "        prev_layout, layout_changed = applyRules(prev_layout, stop_sign_rule, min_adj_seats_rule)\n",
    "        if not layout_changed:\n",
    "            break\n",
    "    \n",
    "    return prev_layout, sum([x.count(\"#\") for x in prev_layout])\n"
   ]
  },
  {
   "cell_type": "markdown",
   "metadata": {},
   "source": [
    "## ANSWER TO PROBLEM 1 AND 2"
   ]
  },
  {
   "cell_type": "code",
   "execution_count": 3,
   "metadata": {},
   "outputs": [
    {
     "name": "stdout",
     "output_type": "stream",
     "text": [
      "ANSWER 1 :2283\n",
      "Wall time: 13.9 s\n"
     ]
    }
   ],
   "source": [
    "%time print(\"ANSWER 1 :\" + str(search_layout(seats)[1]))"
   ]
  },
  {
   "cell_type": "code",
   "execution_count": 4,
   "metadata": {},
   "outputs": [
    {
     "name": "stdout",
     "output_type": "stream",
     "text": [
      "ANSWER 2 :2054\n",
      "Wall time: 11.3 s\n"
     ]
    }
   ],
   "source": [
    "%time print(\"ANSWER 2 :\" + str(search_layout(seats, \"L#\", min_adj_seats_rule = 5)[1]))"
   ]
  }
 ],
 "metadata": {
  "kernelspec": {
   "display_name": "Python 3",
   "language": "python",
   "name": "python3"
  },
  "language_info": {
   "codemirror_mode": {
    "name": "ipython",
    "version": 3
   },
   "file_extension": ".py",
   "mimetype": "text/x-python",
   "name": "python",
   "nbconvert_exporter": "python",
   "pygments_lexer": "ipython3",
   "version": "3.8.1"
  }
 },
 "nbformat": 4,
 "nbformat_minor": 4
}
