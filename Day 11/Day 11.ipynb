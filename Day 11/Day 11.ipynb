{
 "cells": [
  {
   "cell_type": "code",
   "execution_count": 1,
   "metadata": {},
   "outputs": [],
   "source": [
    "# ADVENT OF CODE\n",
    "# https://adventofcode.com/2020/day/9\n",
    "\n",
    "# PREPARE DATA\n",
    "inputfile = open('sample.sql', 'r')\n",
    "seats = [list(line.strip()) for line in inputfile]"
   ]
  },
  {
   "cell_type": "code",
   "execution_count": 2,
   "metadata": {},
   "outputs": [],
   "source": [
    "import copy \n",
    "\n",
    "def lookAround(data, row, col, stop_sign_rule):\n",
    "    directions = [(1,0),(0,1),(-1,0),(0,-1),(1,1),(-1,-1),(1,-1),(-1,1)]    \n",
    "    result = []\n",
    "    for x, y in directions:        \n",
    "        seen = False\n",
    "        i = row + x\n",
    "        j = col + y\n",
    "        while not seen:       \n",
    "            try:\n",
    "                if data[i][j] in stop_sign_rule:\n",
    "                    result.append((i, j))\n",
    "                    seen = True\n",
    "                else:\n",
    "                    i += x\n",
    "                    j += y\n",
    "            except:\n",
    "                break\n",
    "    \n",
    "    return result\n",
    "\n",
    "def applyRules(the_data, stop_sign_rule, min_adj_seats = 4):\n",
    "    data = copy.deepcopy(the_data)\n",
    "    change_count = 0\n",
    "    \n",
    "    for i in range(len(data)):\n",
    "        for j in range(len(data[i])):\n",
    "            adjacents = lookAround(the_data,i,j, stop_sign_rule)            \n",
    "            adjacents_state = [the_data[i][j] for i,j in adjacents if (i >= 0 and j >= 0)]    \n",
    "            \n",
    "            if the_data[i][j] == 'L' and adjacents_state.count('#') == 0:\n",
    "                data[i][j] = '#'\n",
    "                change_count += 1\n",
    "                        \n",
    "            if the_data[i][j] == '#' and adjacents_state.count('#') >= min_adj_seats:\n",
    "                data[i][j] = 'L' \n",
    "                change_count += 1\n",
    "                                              \n",
    "    return data, change_count\n",
    "\n",
    "def search_layout(data, stop_sign_rule, min_adj_seats):\n",
    "    prev_layout = data\n",
    "    fixed = False\n",
    "    while not fixed:\n",
    "        prev_layout, chng = applyRules(prev_layout, stop_sign_rule, min_adj_seats)\n",
    "        if chng == 0:\n",
    "            break\n",
    "    \n",
    "    return prev_layout, sum([x.count(\"#\") for x in prev_layout])\n"
   ]
  },
  {
   "cell_type": "markdown",
   "metadata": {},
   "source": [
    "## ANSWER TO PROBLEM 1 AND 2"
   ]
  },
  {
   "cell_type": "code",
   "execution_count": 3,
   "metadata": {},
   "outputs": [
    {
     "name": "stdout",
     "output_type": "stream",
     "text": [
      "ANSWER 1 :37\n",
      "Wall time: 11 ms\n"
     ]
    }
   ],
   "source": [
    "%time print(\"ANSWER 1 :\" + str(search_layout(seats, \"L#.\", min_adj_seats = 4)[1]))"
   ]
  },
  {
   "cell_type": "code",
   "execution_count": 4,
   "metadata": {},
   "outputs": [
    {
     "name": "stdout",
     "output_type": "stream",
     "text": [
      "ANSWER 2 :26\n",
      "Wall time: 14 ms\n"
     ]
    }
   ],
   "source": [
    "%time print(\"ANSWER 2 :\" + str(search_layout(seats, \"L#\", min_adj_seats = 5)[1]))"
   ]
  }
 ],
 "metadata": {
  "kernelspec": {
   "display_name": "Python 3",
   "language": "python",
   "name": "python3"
  },
  "language_info": {
   "codemirror_mode": {
    "name": "ipython",
    "version": 3
   },
   "file_extension": ".py",
   "mimetype": "text/x-python",
   "name": "python",
   "nbconvert_exporter": "python",
   "pygments_lexer": "ipython3",
   "version": "3.8.1"
  }
 },
 "nbformat": 4,
 "nbformat_minor": 4
}
