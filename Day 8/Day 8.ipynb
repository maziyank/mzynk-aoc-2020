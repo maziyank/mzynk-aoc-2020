{
 "cells": [
  {
   "cell_type": "code",
   "execution_count": 1,
   "metadata": {},
   "outputs": [],
   "source": [
    "# ADVENT OF CODE\n",
    "# https://adventofcode.com/2020/day/7\n",
    "\n",
    "# PREPARE DATA\n",
    "inputfile = open('sample.sql', 'r')\n",
    "data = [{\"ins\": ins, \"val\": int(acc), \"run\": False} for (ins, acc) in [tuple(line.strip().split(' ')) for line in inputfile]]"
   ]
  },
  {
   "cell_type": "markdown",
   "metadata": {},
   "source": [
    "## PROBLEM 1"
   ]
  },
  {
   "cell_type": "code",
   "execution_count": 2,
   "metadata": {},
   "outputs": [],
   "source": [
    "import copy\n",
    "\n",
    "def accumulate(data):\n",
    "    instructions = copy.deepcopy(data) # make original instructions value doesn't change\n",
    "    accs = 0\n",
    "    Stopped = False\n",
    "    pos = 0\n",
    "    while not Stopped:   \n",
    "        if pos >= len(instructions)-1 or pos < 0:\n",
    "            if instructions[pos]['ins'] == 'acc':\n",
    "                accs += instructions[pos]['val']\n",
    "            Stopped = True\n",
    "        else:\n",
    "            if instructions[pos]['run'] == True:\n",
    "                Stopped = True\n",
    "            else:   \n",
    "                if instructions[pos]['ins'] == 'acc':\n",
    "                    accs += instructions[pos]['val']\n",
    "                    instructions[pos]['run'] = True            \n",
    "                    pos += 1\n",
    "                elif instructions[pos]['ins'] == 'jmp':\n",
    "                    pos += instructions[pos]['val']            \n",
    "                elif instructions[pos]['ins'] == 'nop':\n",
    "                    pos += 1\n",
    "\n",
    "    return accs, pos"
   ]
  },
  {
   "cell_type": "code",
   "execution_count": 3,
   "metadata": {},
   "outputs": [
    {
     "data": {
      "text/plain": [
       "'Accumulator Value after second time instrction run: 1'"
      ]
     },
     "execution_count": 3,
     "metadata": {},
     "output_type": "execute_result"
    }
   ],
   "source": [
    "\"Accumulator Value after second time instrction run: \" + str(accumulate(data)[1])"
   ]
  },
  {
   "cell_type": "markdown",
   "metadata": {},
   "source": [
    "## PROBLEM 2"
   ]
  },
  {
   "cell_type": "code",
   "execution_count": 4,
   "metadata": {},
   "outputs": [],
   "source": [
    "def getFixedAccumulator():\n",
    "    trials = list(filter(lambda x: x[1]['ins'] != 'acc',enumerate(data)))\n",
    "    for pos, value in trials:\n",
    "        test = copy.deepcopy(data)\n",
    "        if value['ins'] == 'nop' and value['val'] != 0:\n",
    "            test[pos]['ins'] = 'jmp'\n",
    "        if value['ins'] == 'jmp':        \n",
    "            test[pos]['ins'] = 'nop'\n",
    "\n",
    "        coba, index = accumulate(test)\n",
    "        if index == len(data) -1:\n",
    "            return coba"
   ]
  },
  {
   "cell_type": "code",
   "execution_count": 5,
   "metadata": {},
   "outputs": [
    {
     "data": {
      "text/plain": [
       "'Accumulator Value after instrctions terminated: 8'"
      ]
     },
     "execution_count": 5,
     "metadata": {},
     "output_type": "execute_result"
    }
   ],
   "source": [
    "\"Accumulator Value after instrctions terminated: \" + str(getFixedAccumulator())"
   ]
  }
 ],
 "metadata": {
  "kernelspec": {
   "display_name": "Python 3",
   "language": "python",
   "name": "python3"
  },
  "language_info": {
   "codemirror_mode": {
    "name": "ipython",
    "version": 3
   },
   "file_extension": ".py",
   "mimetype": "text/x-python",
   "name": "python",
   "nbconvert_exporter": "python",
   "pygments_lexer": "ipython3",
   "version": "3.8.1"
  }
 },
 "nbformat": 4,
 "nbformat_minor": 4
}
