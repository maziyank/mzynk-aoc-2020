{
 "cells": [
  {
   "cell_type": "code",
   "execution_count": 1,
   "metadata": {},
   "outputs": [],
   "source": [
    "CARD_PK = 9232416\n",
    "DOOR_PK = 14144084\n",
    "REMAINDER = 20201227\n",
    "\n",
    "def LOOPSIZE(public_key):        \n",
    "    loop_size = found  = 1\n",
    "    while True:\n",
    "        found = 7 * found % REMAINDER    \n",
    "        if found == public_key: \n",
    "            return loop_size                  \n",
    "        loop_size += 1\n",
    "\n",
    "def TRANSFORM(subject_number, loop_size):\n",
    "    result = 1\n",
    "    for ls in range(loop_size):\n",
    "        result = result * subject_number % REMAINDER\n",
    "    return result"
   ]
  },
  {
   "cell_type": "code",
   "execution_count": 2,
   "metadata": {},
   "outputs": [
    {
     "data": {
      "text/plain": [
       "1478097"
      ]
     },
     "execution_count": 2,
     "metadata": {},
     "output_type": "execute_result"
    }
   ],
   "source": [
    "TRANSFORM(CARD_PK, LOOPSIZE(DOOR_PK))"
   ]
  },
  {
   "cell_type": "code",
   "execution_count": 3,
   "metadata": {},
   "outputs": [
    {
     "data": {
      "text/plain": [
       "1478097"
      ]
     },
     "execution_count": 3,
     "metadata": {},
     "output_type": "execute_result"
    }
   ],
   "source": [
    "TRANSFORM(DOOR_PK, LOOPSIZE(CARD_PK))"
   ]
  },
  {
   "cell_type": "code",
   "execution_count": null,
   "metadata": {},
   "outputs": [],
   "source": []
  }
 ],
 "metadata": {
  "kernelspec": {
   "display_name": "Python 3",
   "language": "python",
   "name": "python3"
  },
  "language_info": {
   "codemirror_mode": {
    "name": "ipython",
    "version": 3
   },
   "file_extension": ".py",
   "mimetype": "text/x-python",
   "name": "python",
   "nbconvert_exporter": "python",
   "pygments_lexer": "ipython3",
   "version": "3.8.1"
  }
 },
 "nbformat": 4,
 "nbformat_minor": 4
}
