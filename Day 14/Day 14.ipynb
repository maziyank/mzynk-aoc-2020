{
 "cells": [
  {
   "cell_type": "code",
   "execution_count": 400,
   "metadata": {},
   "outputs": [],
   "source": [
    "# ADVENT OF CODE\n",
    "# https://adventofcode.com/2020/day/14\n",
    "\n",
    "# PREPARE DATA\n",
    "inputfile = open('input.sql', 'r')\n",
    "\n",
    "def translateLine(line):\n",
    "    if \"mask =\" in line:\n",
    "        return (\"SET_MASK\", None, line.replace(\"mask = \", \"\").strip())\n",
    "    else:\n",
    "        nums = re.findall(\"\\d+\", line)\n",
    "        return (\"SET_MEM\", int(nums[0]), int(nums[1]))\n",
    "            \n",
    "\n",
    "operations = [translateLine(line.strip()) for line in inputfile]"
   ]
  },
  {
   "cell_type": "code",
   "execution_count": 401,
   "metadata": {},
   "outputs": [],
   "source": [
    "def modifyBit(n, p, b): \n",
    "    mask = 1 << p \n",
    "    return (n & ~mask) | ((b << p) & mask) \n",
    "\n",
    "def writeToMem(value, mask):\n",
    "    result = value\n",
    "    mask = enumerate(mask[::-1])\n",
    "    for i, b in mask:\n",
    "        if b != \"X\":\n",
    "            result = modifyBit(result, i, int(b))\n",
    "    \n",
    "    return result"
   ]
  },
  {
   "cell_type": "markdown",
   "metadata": {},
   "source": [
    "## PROBLEM 1"
   ]
  },
  {
   "cell_type": "code",
   "execution_count": 402,
   "metadata": {},
   "outputs": [],
   "source": [
    "current_mask = \"\"\n",
    "mem = {}\n",
    "for ins, address, value in operations:    \n",
    "    if ins == \"SET_MASK\":\n",
    "        current_mask = value\n",
    "    elif ins == \"SET_MEM\":\n",
    "        mem[address] = writeMem(value, current_mask)"
   ]
  },
  {
   "cell_type": "code",
   "execution_count": 403,
   "metadata": {},
   "outputs": [
    {
     "data": {
      "text/plain": [
       "18630548206046"
      ]
     },
     "execution_count": 403,
     "metadata": {},
     "output_type": "execute_result"
    }
   ],
   "source": [
    "sum(list(mem.values()))"
   ]
  },
  {
   "cell_type": "markdown",
   "metadata": {},
   "source": [
    "## PROBLEM 2"
   ]
  },
  {
   "cell_type": "code",
   "execution_count": 404,
   "metadata": {},
   "outputs": [],
   "source": [
    "def applyMask(mask, value):\n",
    "    value_bin = \"{:0>36b}\".format(value)\n",
    "    result = []\n",
    "    \n",
    "    for i, s in enumerate(mask):\n",
    "        if s == 'X':\n",
    "            result.append(\"X\")\n",
    "        else:\n",
    "            result.append(str(int(mask[i]) | int(value_bin[i]))) \n",
    "    \n",
    "    return \"\".join(result)\n",
    "\n",
    "flatten = lambda *n: (e for a in n\n",
    "    for e in (flatten(*a) if isinstance(a, (tuple, list)) else (a,)))\n",
    "\n",
    "def maskCombination(mask):    \n",
    "    address = []\n",
    "    if 'X' not in mask:\n",
    "        return mask\n",
    "    else:\n",
    "        i = mask.index(\"X\")\n",
    "        for x in (1,0):\n",
    "            newmask = mask[:i]+str(x)+mask[i+1:]\n",
    "            address.append(maskCombination(newmask))\n",
    "    \n",
    "        return list(flatten(address))"
   ]
  },
  {
   "cell_type": "code",
   "execution_count": 405,
   "metadata": {},
   "outputs": [],
   "source": [
    "current_mask = \"\"\n",
    "mem = {}\n",
    "\n",
    "for ins, address, value in operations:    \n",
    "    if ins == \"SET_MASK\":\n",
    "        current_mask = value\n",
    "    elif ins == \"SET_MEM\":\n",
    "        modMask = applyMask(current_mask, address)\n",
    "        new_addresses = maskCombination(modMask)\n",
    "        for new_address in new_addresses:\n",
    "            mem[int(new_address,2)] = value"
   ]
  },
  {
   "cell_type": "code",
   "execution_count": 406,
   "metadata": {},
   "outputs": [
    {
     "data": {
      "text/plain": [
       "4254673508445"
      ]
     },
     "execution_count": 406,
     "metadata": {},
     "output_type": "execute_result"
    }
   ],
   "source": [
    "sum(list(mem.values()))"
   ]
  },
  {
   "cell_type": "code",
   "execution_count": null,
   "metadata": {},
   "outputs": [],
   "source": []
  }
 ],
 "metadata": {
  "kernelspec": {
   "display_name": "Python 3",
   "language": "python",
   "name": "python3"
  },
  "language_info": {
   "codemirror_mode": {
    "name": "ipython",
    "version": 3
   },
   "file_extension": ".py",
   "mimetype": "text/x-python",
   "name": "python",
   "nbconvert_exporter": "python",
   "pygments_lexer": "ipython3",
   "version": "3.8.1"
  }
 },
 "nbformat": 4,
 "nbformat_minor": 4
}
