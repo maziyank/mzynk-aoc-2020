{
 "cells": [
  {
   "cell_type": "code",
   "execution_count": 1,
   "metadata": {},
   "outputs": [],
   "source": [
    "# ADVENT OF CODE\n",
    "# https://adventofcode.com/2020/day/14\n",
    "\n",
    "# PREPARE DATA\n",
    "import re\n",
    "\n",
    "inputfile = open('input.sql', 'r')\n",
    "\n",
    "def translateLine(line):\n",
    "    if \"mask =\" in line:\n",
    "        return (\"SET_MASK\", None, line.replace(\"mask = \", \"\").strip())\n",
    "    else:\n",
    "        nums = re.findall(\"\\d+\", line)\n",
    "        return (\"SET_MEM\", int(nums[0]), int(nums[1]))\n",
    "            \n",
    "\n",
    "operations = [translateLine(line.strip()) for line in inputfile]"
   ]
  },
  {
   "cell_type": "code",
   "execution_count": 2,
   "metadata": {},
   "outputs": [],
   "source": [
    "def modifyBit(n, p, b): \n",
    "    mask = 1 << p \n",
    "    return (n & ~mask) | ((b << p) & mask) \n",
    "\n",
    "def writeToMem(value, mask):\n",
    "    result = value\n",
    "    mask = enumerate(mask[::-1])\n",
    "    for i, b in mask:\n",
    "        if b != \"X\":\n",
    "            result = modifyBit(result, i, int(b))\n",
    "    \n",
    "    return result"
   ]
  },
  {
   "cell_type": "markdown",
   "metadata": {},
   "source": [
    "## PROBLEM 1"
   ]
  },
  {
   "cell_type": "code",
   "execution_count": 3,
   "metadata": {},
   "outputs": [],
   "source": [
    "def SumValuesInMemory(operations):\n",
    "    mem = {}\n",
    "    for ins, address, value in operations:    \n",
    "        if ins == \"SET_MASK\":\n",
    "            current_mask = value\n",
    "        elif ins == \"SET_MEM\":\n",
    "            mem[address] = writeToMem(value, current_mask)\n",
    "    \n",
    "    return sum(list(mem.values()))"
   ]
  },
  {
   "cell_type": "code",
   "execution_count": 4,
   "metadata": {},
   "outputs": [
    {
     "name": "stdout",
     "output_type": "stream",
     "text": [
      "Wall time: 28 ms\n"
     ]
    },
    {
     "data": {
      "text/plain": [
       "'ANSWER : 18630548206046'"
      ]
     },
     "execution_count": 4,
     "metadata": {},
     "output_type": "execute_result"
    }
   ],
   "source": [
    "%time \"ANSWER : \" + str(SumValuesInMemory(operations))"
   ]
  },
  {
   "cell_type": "markdown",
   "metadata": {},
   "source": [
    "## PROBLEM 2"
   ]
  },
  {
   "cell_type": "code",
   "execution_count": 5,
   "metadata": {},
   "outputs": [],
   "source": [
    "def applyMask(mask, value):\n",
    "    return \"\".join([str(int(x) | int(y)) if x != 'X' else 'X' for x,y in list(zip(mask, \"{:0>36b}\".format(value)))])\n",
    "\n",
    "def maskCombination(mask):    \n",
    "    address = []\n",
    "    if 'X' not in mask: return [int(mask,2)]\n",
    "    else:\n",
    "        i = mask.index(\"X\")\n",
    "        for x in (1,0): address.extend(maskCombination(mask[:i]+str(x)+mask[i+1:]))\n",
    "        return address\n",
    "    \n",
    "def SumValuesInMemory2(operations):\n",
    "    mem = {}\n",
    "    for ins, address, value in operations:    \n",
    "        if ins == \"SET_MASK\":\n",
    "            current_mask = value\n",
    "        elif ins == \"SET_MEM\":\n",
    "            modMask = applyMask(current_mask, address)\n",
    "            new_addresses = maskCombination(modMask)\n",
    "            for new_address in new_addresses:\n",
    "                mem[new_address] = value\n",
    "    \n",
    "    return sum(list(mem.values()))"
   ]
  },
  {
   "cell_type": "code",
   "execution_count": 6,
   "metadata": {},
   "outputs": [
    {
     "name": "stdout",
     "output_type": "stream",
     "text": [
      "Wall time: 463 ms\n"
     ]
    },
    {
     "data": {
      "text/plain": [
       "'ANSWER : 4254673508445'"
      ]
     },
     "execution_count": 6,
     "metadata": {},
     "output_type": "execute_result"
    }
   ],
   "source": [
    "%time \"ANSWER : \" + str(SumValuesInMemory2(operations))"
   ]
  },
  {
   "cell_type": "code",
   "execution_count": null,
   "metadata": {},
   "outputs": [],
   "source": []
  }
 ],
 "metadata": {
  "kernelspec": {
   "display_name": "Python 3",
   "language": "python",
   "name": "python3"
  },
  "language_info": {
   "codemirror_mode": {
    "name": "ipython",
    "version": 3
   },
   "file_extension": ".py",
   "mimetype": "text/x-python",
   "name": "python",
   "nbconvert_exporter": "python",
   "pygments_lexer": "ipython3",
   "version": "3.8.1"
  }
 },
 "nbformat": 4,
 "nbformat_minor": 4
}
