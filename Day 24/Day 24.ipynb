{
 "cells": [
  {
   "cell_type": "code",
   "execution_count": 1,
   "metadata": {},
   "outputs": [],
   "source": [
    "# ADVENT OF CODE\n",
    "# https://adventofcode.com/2020/day/24\n",
    "# PREPARE DATA\n",
    "\n",
    "import re\n",
    "import numpy as np\n",
    "\n",
    "inputfile = open(\"input.sql\").read().splitlines()\n",
    "lines = [re.findall('(e|ne|se|sw|w|nw)',line) for line in inputfile]"
   ]
  },
  {
   "cell_type": "code",
   "execution_count": 2,
   "metadata": {},
   "outputs": [],
   "source": [
    "DIRECTION = {\n",
    "    'e': (0, 2),\n",
    "    'w': (0, -2),\n",
    "    'ne': (-1, 1),\n",
    "    'nw': (-1, -1),\n",
    "    'se': (1, 1),    \n",
    "    'sw': (1, -1)\n",
    "    }\n",
    "    \n",
    "\n",
    "def move(lines):\n",
    "    # TIL : hexagonal coordinate system\n",
    "    # Source : https://www.redblobgames.com/grids/hexagons/#basics\n",
    "    black = []\n",
    "    for line in lines:\n",
    "        POS = [0,0]\n",
    "        for d in line: \n",
    "            POS = np.add(POS, DIRECTION[d])    \n",
    "\n",
    "        key = tuple(POS.tolist())\n",
    "        if (key not in black):\n",
    "            black.append(key)\n",
    "        else:\n",
    "            black.remove(key)\n",
    "\n",
    "    return black, len(black)"
   ]
  },
  {
   "cell_type": "markdown",
   "metadata": {},
   "source": [
    "## PROBLEM 1"
   ]
  },
  {
   "cell_type": "code",
   "execution_count": 3,
   "metadata": {},
   "outputs": [
    {
     "data": {
      "text/plain": [
       "391"
      ]
     },
     "execution_count": 3,
     "metadata": {},
     "output_type": "execute_result"
    }
   ],
   "source": [
    "black, count = move(lines)\n",
    "count"
   ]
  },
  {
   "cell_type": "markdown",
   "metadata": {},
   "source": [
    "## PROBLEM 2"
   ]
  },
  {
   "cell_type": "code",
   "execution_count": 4,
   "metadata": {},
   "outputs": [],
   "source": [
    "from tqdm import tqdm\n",
    "\n",
    "def getAdjacent(i,j):\n",
    "    adjacents = [tuple(np.add([i,j], DIRECTION[d]).tolist()) for d in DIRECTION]\n",
    "    return adjacents\n",
    "    \n",
    "def changefloor(days, black_state):\n",
    "    state = set(black_state)    \n",
    "    for day in tqdm(range(days)):\n",
    "        new_state = set()\n",
    "        sizeX = max(max([i for i,j in state]), min([abs(i) for i,j in state]))\n",
    "        sizeY = max(max([j for i,j in state]), min([abs(j) for i,j in state]))\n",
    "        \n",
    "        for (x,y) in state:\n",
    "            adjacents = getAdjacent(x, y)\n",
    "            for (i,j) in adjacents:\n",
    "                black_adjacents = [x for x in getAdjacent(i, j) if x in state]\n",
    "                if ((i,j) in state and len(black_adjacents) in (1,2)) or ((i,j) not in state and len(black_adjacents) == 2):   \n",
    "                    new_state.add((i,j))                \n",
    "            \n",
    "        state = new_state\n",
    "        \n",
    "    return len(new_state)\n",
    "                \n",
    "        "
   ]
  },
  {
   "cell_type": "code",
   "execution_count": 5,
   "metadata": {},
   "outputs": [
    {
     "name": "stderr",
     "output_type": "stream",
     "text": [
      "100%|████████████████████████████████████████████████████████████████████████████████| 100/100 [00:34<00:00,  2.87it/s]\n"
     ]
    },
    {
     "data": {
      "text/plain": [
       "3876"
      ]
     },
     "execution_count": 5,
     "metadata": {},
     "output_type": "execute_result"
    }
   ],
   "source": [
    "changefloor(100, black)"
   ]
  }
 ],
 "metadata": {
  "kernelspec": {
   "display_name": "Python 3",
   "language": "python",
   "name": "python3"
  },
  "language_info": {
   "codemirror_mode": {
    "name": "ipython",
    "version": 3
   },
   "file_extension": ".py",
   "mimetype": "text/x-python",
   "name": "python",
   "nbconvert_exporter": "python",
   "pygments_lexer": "ipython3",
   "version": "3.8.1"
  }
 },
 "nbformat": 4,
 "nbformat_minor": 4
}
