{
 "cells": [
  {
   "cell_type": "code",
   "execution_count": 1,
   "metadata": {},
   "outputs": [],
   "source": [
    "# ADVENT OF CODE\n",
    "# https://adventofcode.com/2020/day/21\n",
    "# PREPARE DATA\n",
    "\n",
    "inputfile = open('input.sql', 'r').read()    \n",
    "foods = [(x[0].split(' '), x[-1].split(', ')) for x in [ingredient[:-1].split(' (contains ') for ingredient in inputfile.split('\\n')]]"
   ]
  },
  {
   "cell_type": "code",
   "execution_count": 2,
   "metadata": {},
   "outputs": [],
   "source": [
    "import copy\n",
    "\n",
    "def calculateRank():\n",
    "    rank = {}\n",
    "    all_ingredients = []\n",
    "    for ingredients, allergens in foods:\n",
    "        all_ingredients += ingredients\n",
    "\n",
    "        for allergen in allergens:     \n",
    "            toadd = copy.copy(ingredients)\n",
    "            if allergen not in rank:\n",
    "                rank[allergen] = {'ingredients': toadd }\n",
    "            elif allergen in rank:\n",
    "                rank[allergen]['ingredients'] += toadd\n",
    "\n",
    "    for allergen in rank: \n",
    "        l = rank[allergen]['ingredients']\n",
    "        rank[allergen]['possibility'] = sorted([(l.count(x),x) for x in set(l)], reverse=True)\n",
    "        \n",
    "    return rank, all_ingredients\n",
    "\n",
    "def findAllergen():\n",
    "    candidates = {}\n",
    "    rank, all_ingredients = calculateRank()\n",
    "\n",
    "    while True:\n",
    "        for key in rank:        \n",
    "            for index, (poss, ing) in enumerate(rank[key]['possibility']):\n",
    "                if key not in candidates:\n",
    "                    candidates[key] = [ing]\n",
    "                else:\n",
    "                    candidates[key].append(ing)                \n",
    "                \n",
    "                if poss > rank[key]['possibility'][index+1][0] or index == len(rank[key]['possibility'])-1:\n",
    "                    break\n",
    "        \n",
    "        if len(candidates) == len(rank):\n",
    "            break            \n",
    "    \n",
    "    result, candidates = {}, sorted(candidates.items(), key = lambda x: len(x[1]))  \n",
    "    while True:\n",
    "        for (allergen, ingredients) in candidates:              \n",
    "            toadd = list(set(ingredients)-set(result.keys()))\n",
    "            if len(toadd) == 1:            \n",
    "                result[toadd[0]] = allergen      \n",
    "\n",
    "        if len(result) == len(candidates):\n",
    "            break\n",
    "            \n",
    "    sortedResult = sorted(result.items(), key=lambda x: x[1], reverse=False)\n",
    "            \n",
    "    return sortedResult, len([ing for ing in all_ingredients if ing not in list(result.keys())])"
   ]
  },
  {
   "cell_type": "markdown",
   "metadata": {},
   "source": [
    "## PROBLEM 1"
   ]
  },
  {
   "cell_type": "code",
   "execution_count": 4,
   "metadata": {},
   "outputs": [
    {
     "data": {
      "text/plain": [
       "2410"
      ]
     },
     "execution_count": 4,
     "metadata": {},
     "output_type": "execute_result"
    }
   ],
   "source": [
    "allergic, countSafe = findAllergen()\n",
    "countSafe"
   ]
  },
  {
   "cell_type": "markdown",
   "metadata": {},
   "source": [
    "## PROBLEM 2"
   ]
  },
  {
   "cell_type": "code",
   "execution_count": 5,
   "metadata": {},
   "outputs": [
    {
     "data": {
      "text/plain": [
       "'tmp,pdpgm,cdslv,zrvtg,ttkn,mkpmkx,vxzpfp,flnhl'"
      ]
     },
     "execution_count": 5,
     "metadata": {},
     "output_type": "execute_result"
    }
   ],
   "source": [
    "','.join(list(map(lambda x: x[0], allergic)))"
   ]
  },
  {
   "cell_type": "code",
   "execution_count": null,
   "metadata": {},
   "outputs": [],
   "source": []
  }
 ],
 "metadata": {
  "kernelspec": {
   "display_name": "Python 3",
   "language": "python",
   "name": "python3"
  },
  "language_info": {
   "codemirror_mode": {
    "name": "ipython",
    "version": 3
   },
   "file_extension": ".py",
   "mimetype": "text/x-python",
   "name": "python",
   "nbconvert_exporter": "python",
   "pygments_lexer": "ipython3",
   "version": "3.8.1"
  }
 },
 "nbformat": 4,
 "nbformat_minor": 4
}
