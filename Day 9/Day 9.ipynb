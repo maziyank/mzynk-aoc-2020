{
 "cells": [
  {
   "cell_type": "code",
   "execution_count": 1,
   "metadata": {},
   "outputs": [],
   "source": [
    "# ADVENT OF CODE\n",
    "# https://adventofcode.com/2020/day/9\n",
    "\n",
    "# PREPARE DATA\n",
    "inputfile = open('sample.sql', 'r')\n",
    "data = [int(line) for line in inputfile]"
   ]
  },
  {
   "cell_type": "markdown",
   "metadata": {},
   "source": [
    "## PROBLEM 1"
   ]
  },
  {
   "cell_type": "code",
   "execution_count": 2,
   "metadata": {},
   "outputs": [],
   "source": [
    "def checkPair(number, data):\n",
    "    for test in data:\n",
    "        if ((number-test) in data and number != test):            \n",
    "            return True, (test, number-test)            \n",
    "    \n",
    "    return False, ()"
   ]
  },
  {
   "cell_type": "code",
   "execution_count": 3,
   "metadata": {},
   "outputs": [],
   "source": [
    "def findInvalidNum(data, preamble):\n",
    "    for index, number in enumerate(data):\n",
    "        if index > preamble:\n",
    "            found, pair = checkPair(number, data[index-preamble:index])\n",
    "            if not found:\n",
    "                return index, number\n"
   ]
  },
  {
   "cell_type": "code",
   "execution_count": 4,
   "metadata": {},
   "outputs": [],
   "source": [
    "InvalidNumbIndex, invalidNumb = findInvalidNum(data, 5)"
   ]
  },
  {
   "cell_type": "code",
   "execution_count": 5,
   "metadata": {},
   "outputs": [
    {
     "data": {
      "text/plain": [
       "'First Invalid Number: 127'"
      ]
     },
     "execution_count": 5,
     "metadata": {},
     "output_type": "execute_result"
    }
   ],
   "source": [
    "\"First Invalid Number: \"  + str(invalidNumb)"
   ]
  },
  {
   "cell_type": "markdown",
   "metadata": {},
   "source": [
    "## PROBLEM 2"
   ]
  },
  {
   "cell_type": "code",
   "execution_count": 6,
   "metadata": {},
   "outputs": [],
   "source": [
    "def findEncryptionWeakness(data, InvalidNumbIndex):\n",
    "    for i in range(2, InvalidNumbIndex):\n",
    "        for j in range(i, InvalidNumbIndex):\n",
    "            jml = sum(data[i:j])\n",
    "            if jml > invalidNumb:\n",
    "                break\n",
    "            if jml == invalidNumb:\n",
    "                return data[i:j]                "
   ]
  },
  {
   "cell_type": "code",
   "execution_count": 7,
   "metadata": {},
   "outputs": [
    {
     "data": {
      "text/plain": [
       "'Encryption weakness: 62'"
      ]
     },
     "execution_count": 7,
     "metadata": {},
     "output_type": "execute_result"
    }
   ],
   "source": [
    "encryptionWeakness = findEncryptionWeakness(data, InvalidNumbIndex)\n",
    "\"Encryption weakness: \"  + str(min(encryptionWeakness)+max(encryptionWeakness))"
   ]
  }
 ],
 "metadata": {
  "kernelspec": {
   "display_name": "Python 3",
   "language": "python",
   "name": "python3"
  },
  "language_info": {
   "codemirror_mode": {
    "name": "ipython",
    "version": 3
   },
   "file_extension": ".py",
   "mimetype": "text/x-python",
   "name": "python",
   "nbconvert_exporter": "python",
   "pygments_lexer": "ipython3",
   "version": "3.8.1"
  }
 },
 "nbformat": 4,
 "nbformat_minor": 4
}
