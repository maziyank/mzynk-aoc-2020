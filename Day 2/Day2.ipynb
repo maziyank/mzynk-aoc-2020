{
 "cells": [
  {
   "cell_type": "code",
   "execution_count": 17,
   "metadata": {},
   "outputs": [],
   "source": [
    "# ADVENT OF CODE\n",
    "# https://adventofcode.com/2020/day/2\n",
    "\n",
    "inputfile = open('input.sql', 'r') \n",
    "lines = [line for line in inputfile]\n",
    "\n",
    "def checkPassword(line):\n",
    "    limit, (letter, nn), passw = line.replace('\\n','').split(' ')\n",
    "    mn, mx = map(int,limit.split('-'))\n",
    "    count = passw.count(letter)\n",
    "    return (count <= mx) and (count >= mn)    \n",
    "\n",
    "def checkPassword2(line):\n",
    "    position, (letter, nn), passw = line.replace('\\n','').split(' ')\n",
    "    firstPos, secondPos = position.split('-')    \n",
    "    return [passw[int(firstPos)-1], passw[int(secondPos)-1]].count(letter) == 1"
   ]
  },
  {
   "cell_type": "code",
   "execution_count": 18,
   "metadata": {},
   "outputs": [
    {
     "name": "stdout",
     "output_type": "stream",
     "text": [
      "NUMBER OF VALID PASSWORD FOR FIRST RULE: 418\n",
      "Wall time: 4.99 ms\n",
      "NUMBER OF VALID PASSWORD FOR SECOND RULE: 616\n",
      "Wall time: 5 ms\n"
     ]
    }
   ],
   "source": [
    "# NUMBER OF VALID PASSWORD\n",
    "\n",
    "%time print(\"NUMBER OF VALID PASSWORD FOR FIRST RULE:\", sum([int(checkPassword(line)) for line in lines]))\n",
    "%time print(\"NUMBER OF VALID PASSWORD FOR SECOND RULE:\", sum([int(checkPassword2(line)) for line in lines]))"
   ]
  },
  {
   "cell_type": "code",
   "execution_count": null,
   "metadata": {},
   "outputs": [],
   "source": []
  }
 ],
 "metadata": {
  "kernelspec": {
   "display_name": "Python 3",
   "language": "python",
   "name": "python3"
  },
  "language_info": {
   "codemirror_mode": {
    "name": "ipython",
    "version": 3
   },
   "file_extension": ".py",
   "mimetype": "text/x-python",
   "name": "python",
   "nbconvert_exporter": "python",
   "pygments_lexer": "ipython3",
   "version": "3.8.1"
  }
 },
 "nbformat": 4,
 "nbformat_minor": 4
}
