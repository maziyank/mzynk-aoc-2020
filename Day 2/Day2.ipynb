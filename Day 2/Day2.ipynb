{
 "cells": [
  {
   "cell_type": "code",
   "execution_count": 57,
   "metadata": {},
   "outputs": [],
   "source": [
    "# ADVENT OF CODE\n",
    "# https://adventofcode.com/2020/day/2\n",
    "\n",
    "inputfile = open('input.sql', 'r') \n",
    "lines = [line for line in inputfile]\n",
    "\n",
    "def extractLine(line):\n",
    "    limit, (letter, nn), passw = line.replace('\\n','').split(' ')\n",
    "    mn, mx = map(int,limit.split('-'))    \n",
    "    return limit, letter, passw, mn, mx\n",
    "\n",
    "def checkPassword(line):\n",
    "    limit, letter, passw, mn, mx = extractLine(line)\n",
    "    count = passw.count(letter)\n",
    "    return (count <= mx) and (count >= mn)    \n",
    "\n",
    "def checkPassword2(line):\n",
    "    imit, letter, passw, mn, mx = extractLine(line)   \n",
    "    return (passw[int(mn)-1] == letter) ^ (passw[int(mx)-1] == letter)"
   ]
  },
  {
   "cell_type": "code",
   "execution_count": 66,
   "metadata": {},
   "outputs": [
    {
     "name": "stdout",
     "output_type": "stream",
     "text": [
      "NUMBER OF VALID PASSWORD FOR FIRST RULE: 418\n",
      "Wall time: 8 ms\n",
      "NUMBER OF VALID PASSWORD FOR SECOND RULE: 616\n",
      "Wall time: 7 ms\n"
     ]
    }
   ],
   "source": [
    "# NUMBER OF VALID PASSWORD\n",
    "\n",
    "%time print(\"NUMBER OF VALID PASSWORD FOR FIRST RULE:\", len([x for x in [int(checkPassword(line)) for line in lines] if x == True]))\n",
    "%time print(\"NUMBER OF VALID PASSWORD FOR SECOND RULE:\", sum([int(checkPassword2(line)) for line in lines]))"
   ]
  },
  {
   "cell_type": "code",
   "execution_count": null,
   "metadata": {},
   "outputs": [],
   "source": []
  },
  {
   "cell_type": "code",
   "execution_count": null,
   "metadata": {},
   "outputs": [],
   "source": []
  }
 ],
 "metadata": {
  "kernelspec": {
   "display_name": "Python 3",
   "language": "python",
   "name": "python3"
  },
  "language_info": {
   "codemirror_mode": {
    "name": "ipython",
    "version": 3
   },
   "file_extension": ".py",
   "mimetype": "text/x-python",
   "name": "python",
   "nbconvert_exporter": "python",
   "pygments_lexer": "ipython3",
   "version": "3.8.1"
  }
 },
 "nbformat": 4,
 "nbformat_minor": 4
}
