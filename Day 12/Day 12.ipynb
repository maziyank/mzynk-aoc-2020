{
 "cells": [
  {
   "cell_type": "code",
   "execution_count": 188,
   "metadata": {},
   "outputs": [],
   "source": [
    "# ADVENT OF CODE\n",
    "# https://adventofcode.com/2020/day/12\n",
    "\n",
    "# PREPARE DATA\n",
    "inputfile = open('input.sql', 'r')\n",
    "navs = [line.strip() for line in inputfile]"
   ]
  },
  {
   "cell_type": "code",
   "execution_count": 189,
   "metadata": {},
   "outputs": [],
   "source": [
    "import numpy as np"
   ]
  },
  {
   "cell_type": "markdown",
   "metadata": {},
   "source": [
    "## PROBLEM 1"
   ]
  },
  {
   "cell_type": "code",
   "execution_count": 190,
   "metadata": {},
   "outputs": [],
   "source": [
    "def calculateManhatanDistance(data, start_position = [0,0], start_direction = [1,0]):\n",
    "    direction = np.array(start_direction)\n",
    "    position = np.array(start_position)\n",
    "    for nav in data:    \n",
    "        key = nav[0] \n",
    "        value = int(nav[1:])\n",
    "        if key == 'F':\n",
    "            position += direction * value\n",
    "        elif key == 'R' or key == 'L':\n",
    "            #  \"L90\" == R270, \"L180\" == R180, \"L270\" == R90\n",
    "            if key == \"L\":\n",
    "                value = 360 - value\n",
    "\n",
    "            direction = np.matmul(direction, rotation[value])  \n",
    "        elif key in \"NSEW\":\n",
    "            position += moves[key] * value     \n",
    "\n",
    "    return sum(map(abs,position))"
   ]
  },
  {
   "cell_type": "code",
   "execution_count": 191,
   "metadata": {},
   "outputs": [
    {
     "data": {
      "text/plain": [
       "1441"
      ]
     },
     "execution_count": 191,
     "metadata": {},
     "output_type": "execute_result"
    }
   ],
   "source": [
    "calculateManhatanDistance(navs)"
   ]
  },
  {
   "cell_type": "markdown",
   "metadata": {},
   "source": [
    "## PROBLEM 2"
   ]
  },
  {
   "cell_type": "code",
   "execution_count": 192,
   "metadata": {},
   "outputs": [],
   "source": [
    "def calculateManhatanDistance2(data, start_position = [0,0], waypoint = [0,0]):\n",
    "    position = np.array(start_position)\n",
    "    waypoint = np.array(waypoint)\n",
    "    for nav in data:    \n",
    "        key = nav[0] \n",
    "        value = int(nav[1:])\n",
    "        if key == 'F':\n",
    "            position += (waypoint * value)\n",
    "        elif key == 'R' or key == 'L':\n",
    "            if key == \"L\":\n",
    "                value = 360 - value\n",
    "\n",
    "            waypoint = np.matmul(waypoint, rotation[value])\n",
    "        elif key in \"NSEW\":\n",
    "            waypoint += moves[key] * value     \n",
    "\n",
    "    return sum(map(abs,position))"
   ]
  },
  {
   "cell_type": "code",
   "execution_count": 193,
   "metadata": {},
   "outputs": [
    {
     "data": {
      "text/plain": [
       "61616"
      ]
     },
     "execution_count": 193,
     "metadata": {},
     "output_type": "execute_result"
    }
   ],
   "source": [
    "calculateManhatanDistance2(navs, waypoint = [10,1])"
   ]
  },
  {
   "cell_type": "code",
   "execution_count": null,
   "metadata": {},
   "outputs": [],
   "source": []
  }
 ],
 "metadata": {
  "kernelspec": {
   "display_name": "Python 3",
   "language": "python",
   "name": "python3"
  },
  "language_info": {
   "codemirror_mode": {
    "name": "ipython",
    "version": 3
   },
   "file_extension": ".py",
   "mimetype": "text/x-python",
   "name": "python",
   "nbconvert_exporter": "python",
   "pygments_lexer": "ipython3",
   "version": "3.8.1"
  }
 },
 "nbformat": 4,
 "nbformat_minor": 4
}
