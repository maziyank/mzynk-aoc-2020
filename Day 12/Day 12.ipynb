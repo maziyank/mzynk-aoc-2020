{
 "cells": [
  {
   "cell_type": "code",
   "execution_count": 1,
   "metadata": {},
   "outputs": [],
   "source": [
    "# ADVENT OF CODE\n",
    "# https://adventofcode.com/2020/day/12\n",
    "\n",
    "# LOAD LIBRARIES\n",
    "import numpy as np\n",
    "\n",
    "# PREPARE DATA\n",
    "inputfile = open('sample.sql', 'r')\n",
    "navs = [(nav[0],int(nav[1:])) for nav in [line.strip() for line in inputfile]]"
   ]
  },
  {
   "cell_type": "code",
   "execution_count": 2,
   "metadata": {},
   "outputs": [],
   "source": [
    "def calculateManhatanDistance(data, start_position = [0,0], start_direction = [1,0], nav_to_waypoint=False):    \n",
    "    # since rotations in the puzzle only 90, 180, and 270, this func just define common rotation matrix as a dict\n",
    "    # https://en.wikipedia.org/wiki/Rotation_matrix#Common_rotations    \n",
    "    rotation_matrix = { 90: np.array([[0,-1],[1,0]]), 180: np.array([[-1,0],[0,-1]]), 270: np.array([[0,1],[-1,0]])}\n",
    "    \n",
    "    moves = { \"N\": np.array([0,1]),  \"S\": np.array([0,-1]), \"W\": np.array([-1,0]), \"E\": np.array([1,0])}\n",
    "    direction, position = np.array(start_direction), np.array(start_position)\n",
    "    \n",
    "    for key, value in data:    \n",
    "        if key == 'F':\n",
    "            position += direction * value\n",
    "        elif key == 'R' or key == 'L':\n",
    "            direction = np.matmul(direction, rotation_matrix[value if key==\"R\" else 360 - value])  \n",
    "        elif key in \"NSEW\":\n",
    "            if nav_to_waypoint:\n",
    "                direction += moves[key] * value \n",
    "            else:\n",
    "                position += moves[key] * value     \n",
    "            \n",
    "\n",
    "    return sum(map(abs,position))"
   ]
  },
  {
   "cell_type": "code",
   "execution_count": 3,
   "metadata": {},
   "outputs": [],
   "source": [
    "#  if we need an advanced rotation matrix we can use numpy to generate it\n",
    "def make_rotation_matrix(theta):\n",
    "    theta = np.radians(theta)\n",
    "    cos, sin = int(np.cos(theta)), int(np.sin(theta))\n",
    "    R = np.array(((cos, -sin), (sin, cos)))\n",
    "\n",
    "    return R"
   ]
  },
  {
   "cell_type": "markdown",
   "metadata": {},
   "source": [
    "## ANSWER TO PROBLEM 1 & 2"
   ]
  },
  {
   "cell_type": "code",
   "execution_count": 4,
   "metadata": {},
   "outputs": [
    {
     "name": "stdout",
     "output_type": "stream",
     "text": [
      "Wall time: 0 ns\n"
     ]
    },
    {
     "data": {
      "text/plain": [
       "'ANSWER 1 :25'"
      ]
     },
     "execution_count": 4,
     "metadata": {},
     "output_type": "execute_result"
    }
   ],
   "source": [
    "%time \"ANSWER 1 :\" + str(calculateManhatanDistance(navs))"
   ]
  },
  {
   "cell_type": "code",
   "execution_count": 5,
   "metadata": {},
   "outputs": [
    {
     "name": "stdout",
     "output_type": "stream",
     "text": [
      "Wall time: 999 µs\n"
     ]
    },
    {
     "data": {
      "text/plain": [
       "'ANSWER 2 :286'"
      ]
     },
     "execution_count": 5,
     "metadata": {},
     "output_type": "execute_result"
    }
   ],
   "source": [
    "%time \"ANSWER 2 :\" + str(calculateManhatanDistance(navs, start_direction = [10,1], nav_to_waypoint= True))"
   ]
  }
 ],
 "metadata": {
  "kernelspec": {
   "display_name": "Python 3",
   "language": "python",
   "name": "python3"
  },
  "language_info": {
   "codemirror_mode": {
    "name": "ipython",
    "version": 3
   },
   "file_extension": ".py",
   "mimetype": "text/x-python",
   "name": "python",
   "nbconvert_exporter": "python",
   "pygments_lexer": "ipython3",
   "version": "3.8.1"
  }
 },
 "nbformat": 4,
 "nbformat_minor": 4
}
