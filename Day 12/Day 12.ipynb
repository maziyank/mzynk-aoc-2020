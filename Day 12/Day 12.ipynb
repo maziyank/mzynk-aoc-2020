{
 "cells": [
  {
   "cell_type": "code",
   "execution_count": 1,
   "metadata": {},
   "outputs": [],
   "source": [
    "# ADVENT OF CODE\n",
    "# https://adventofcode.com/2020/day/12\n",
    "\n",
    "# LOAD LIBRARIES\n",
    "import numpy as np\n",
    "\n",
    "# PREPARE DATA\n",
    "inputfile = open('input.sql', 'r')\n",
    "navs = [(nav[0],int(nav[1:])) for nav in [line.strip() for line in inputfile]]"
   ]
  },
  {
   "cell_type": "code",
   "execution_count": 2,
   "metadata": {},
   "outputs": [],
   "source": [
    "# MATRICES HELPER FOR VECTOR TRANSFORMATION\n",
    "# https://en.wikipedia.org/wiki/Rotation_matrix#Common_rotations\n",
    "\n",
    "moves = {\n",
    "    \"N\": np.array([0,1]),\n",
    "    \"S\": np.array([0,-1]),\n",
    "    \"W\": np.array([-1,0]),\n",
    "    \"E\": np.array([1,0])\n",
    "}\n",
    "\n",
    "rotation = {\n",
    "    90: np.array([[0,-1],[1,0]]),\n",
    "    180: np.array([[-1,0],[0,-1]]),\n",
    "    270: np.array([[0,1],[-1,0]])\n",
    "}"
   ]
  },
  {
   "cell_type": "markdown",
   "metadata": {},
   "source": [
    "## PROBLEM 1"
   ]
  },
  {
   "cell_type": "code",
   "execution_count": 3,
   "metadata": {},
   "outputs": [],
   "source": [
    "def calculateManhatanDistance(data, start_position = [0,0], start_direction = [1,0]):\n",
    "    direction = np.array(start_direction)\n",
    "    position = np.array(start_position)\n",
    "    for key, value in data:    \n",
    "        if key == 'F':\n",
    "            position += direction * value\n",
    "        elif key == 'R' or key == 'L':\n",
    "            direction = np.matmul(direction, rotation[value if key==\"R\" else 360 - value])  \n",
    "        elif key in \"NSEW\":\n",
    "            position += moves[key] * value     \n",
    "\n",
    "    return sum(map(abs,position))"
   ]
  },
  {
   "cell_type": "code",
   "execution_count": 4,
   "metadata": {},
   "outputs": [
    {
     "name": "stdout",
     "output_type": "stream",
     "text": [
      "Wall time: 4 ms\n"
     ]
    },
    {
     "data": {
      "text/plain": [
       "1441"
      ]
     },
     "execution_count": 4,
     "metadata": {},
     "output_type": "execute_result"
    }
   ],
   "source": [
    "%time calculateManhatanDistance(navs)"
   ]
  },
  {
   "cell_type": "markdown",
   "metadata": {},
   "source": [
    "## PROBLEM 2"
   ]
  },
  {
   "cell_type": "code",
   "execution_count": 5,
   "metadata": {},
   "outputs": [],
   "source": [
    "def calculateManhatanDistance2(data, start_position = [0,0], start_waypoint = [0,0]):\n",
    "    position = np.array(start_position)\n",
    "    waypoint = np.array(start_waypoint)\n",
    "    for key, value in data:    \n",
    "        if key == 'F':\n",
    "            position += waypoint * value\n",
    "        elif key == 'R' or key == 'L':\n",
    "            waypoint = np.matmul(waypoint, rotation[value if key==\"R\" else 360 - value])\n",
    "        elif key in \"NSEW\":\n",
    "            waypoint += moves[key] * value  \n",
    "    \n",
    "    return sum(map(abs,position))"
   ]
  },
  {
   "cell_type": "code",
   "execution_count": 6,
   "metadata": {},
   "outputs": [
    {
     "name": "stdout",
     "output_type": "stream",
     "text": [
      "Wall time: 6.02 ms\n"
     ]
    },
    {
     "data": {
      "text/plain": [
       "61616"
      ]
     },
     "execution_count": 6,
     "metadata": {},
     "output_type": "execute_result"
    }
   ],
   "source": [
    "%time calculateManhatanDistance2(navs, start_waypoint = [10,1])"
   ]
  },
  {
   "cell_type": "code",
   "execution_count": null,
   "metadata": {},
   "outputs": [],
   "source": []
  }
 ],
 "metadata": {
  "kernelspec": {
   "display_name": "Python 3",
   "language": "python",
   "name": "python3"
  },
  "language_info": {
   "codemirror_mode": {
    "name": "ipython",
    "version": 3
   },
   "file_extension": ".py",
   "mimetype": "text/x-python",
   "name": "python",
   "nbconvert_exporter": "python",
   "pygments_lexer": "ipython3",
   "version": "3.8.1"
  }
 },
 "nbformat": 4,
 "nbformat_minor": 4
}
