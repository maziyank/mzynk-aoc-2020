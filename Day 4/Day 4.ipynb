{
 "cells": [
  {
   "cell_type": "code",
   "execution_count": 248,
   "metadata": {},
   "outputs": [],
   "source": [
    "# ADVENT OF CODE\n",
    "# https://adventofcode.com/2020/day/4\n",
    "\n",
    "inputfile = open('input.sql', 'r')\n",
    "lines = [line.replace('\\n','') for line in inputfile]        "
   ]
  },
  {
   "cell_type": "code",
   "execution_count": 249,
   "metadata": {},
   "outputs": [],
   "source": [
    "# PREPARE DATA\n",
    "passports = []\n",
    "passport = []\n",
    "lines.append('')\n",
    "\n",
    "for line in lines:\n",
    "    if line == '':\n",
    "        passports.append(' '.join(passport))\n",
    "        passport = []\n",
    "    else:\n",
    "        passport.append(line)"
   ]
  },
  {
   "cell_type": "markdown",
   "metadata": {},
   "source": [
    "## PROBLEM 1"
   ]
  },
  {
   "cell_type": "code",
   "execution_count": 251,
   "metadata": {},
   "outputs": [
    {
     "data": {
      "text/plain": [
       "'VALID PASSPORTS BASED ON 1ST RULE : 196'"
      ]
     },
     "execution_count": 251,
     "metadata": {},
     "output_type": "execute_result"
    }
   ],
   "source": [
    "def getValidPassport(data):\n",
    "    required = [\"byr:\", \"iyr:\" ,\"eyr:\" ,\"hgt:\", \"hcl:\", \"ecl:\", \"pid:\"]\n",
    "    results = []\n",
    "    \n",
    "    for passpor in data:\n",
    "        result = True\n",
    "        \n",
    "        for field in required:\n",
    "            if (field not in passpor):\n",
    "                result = False\n",
    "                break\n",
    "\n",
    "        if result: results.append(passpor)\n",
    "\n",
    "    return results\n",
    "\n",
    "ValidPassport = getValidPassport(passports)\n",
    "\n",
    "\"VALID PASSPORTS BASED ON 1ST RULE : \" + str(len(ValidPassport))"
   ]
  },
  {
   "cell_type": "markdown",
   "metadata": {},
   "source": [
    "## PROBLEM 2\n",
    "\n",
    "##### RULES :\n",
    "^byr (Birth Year) - four digits; at least 1920 and at most 2002.\n",
    "\n",
    "^iyr (Issue Year) - four digits; at least 2010 and at most 2020.\n",
    "\n",
    "^eyr (Expiration Year) - four digits; at least 2020 and at most 2030.\n",
    "\n",
    "^hgt (Height) - a number followed by either cm or in. If cm, the number must be at least 150 and at most 193 and If in, the number must be at least 59 and at most 76.\n",
    "\n",
    "^hcl (Hair Color) - a # followed by exactly six characters 0-9 or a-f.\n",
    "\n",
    "^ecl (Eye Color) - exactly one of: amb blu brn gry grn hzl oth.\n",
    "\n",
    "^pid (Passport ID) - a nine-digit number, including leading zeroes.\n",
    "\n",
    "^cid (Country ID) - ignored, missing or not."
   ]
  },
  {
   "cell_type": "code",
   "execution_count": 261,
   "metadata": {},
   "outputs": [],
   "source": [
    "import re\n",
    "\n",
    "def check_hgt(hgt):\n",
    "    cond1 = type(re.search(\"\\d+(in|cm)\", hgt)) == re.Match\n",
    "    cond2 = 150 <= int(hgt.replace('cm','')) <=193 if 'cm' in hgt else False\n",
    "    cond3 = 59 <= int(hgt.replace('in','')) <= 76 if 'in' in hgt else False    \n",
    "    return (cond1 and (cond2 or cond3))\n",
    "\n",
    "def inRange(value, mins, maks): \n",
    "    return mins <= int(value) <= maks\n",
    "    \n",
    "validation  = {\n",
    "    'byr': lambda x: inRange(x, 1920,2002),\n",
    "    'iyr': lambda x: inRange(x, 2010,2020),\n",
    "    'eyr': lambda x: inRange(x, 2020,2030), \n",
    "    'hgt': lambda x: check_hgt(x),\n",
    "    'hcl': lambda x: type(re.search(\"#\\w{6}\", x)) == re.Match, \n",
    "    'ecl': lambda x: x in \"amb blu brn gry grn hzl oth\",\n",
    "    'pid': lambda x: len(x) == 9 and type(re.search(\"\\D\", x)) != re.Match,\n",
    "}"
   ]
  },
  {
   "cell_type": "code",
   "execution_count": 262,
   "metadata": {
    "scrolled": true
   },
   "outputs": [
    {
     "data": {
      "text/plain": [
       "'VALID PASSPORTS BASED ON 1ST RULE : 114'"
      ]
     },
     "execution_count": 262,
     "metadata": {},
     "output_type": "execute_result"
    }
   ],
   "source": [
    "def getValidPassport2(data):\n",
    "    valids = []\n",
    "    \n",
    "    for passpor in ValidPassport:\n",
    "        fields = passpor.split(' ')\n",
    "        cek = True\n",
    "        for field in fields:\n",
    "            data = field.split(':')\n",
    "            key = data[0]\n",
    "            value = data[1]                \n",
    "\n",
    "            if key != 'cid':\n",
    "                if not validation[key](value):\n",
    "                    cek = False\n",
    "                    break\n",
    "\n",
    "        if cek: valids.append(passpor)\n",
    "    \n",
    "    return valids\n",
    "\n",
    "ValidPassport2 = getValidPassport2(ValidPassport)\n",
    "\"VALID PASSPORTS BASED ON 1ST RULE : \" + str(len(ValidPassport2))"
   ]
  }
 ],
 "metadata": {
  "kernelspec": {
   "display_name": "Python 3",
   "language": "python",
   "name": "python3"
  },
  "language_info": {
   "codemirror_mode": {
    "name": "ipython",
    "version": 3
   },
   "file_extension": ".py",
   "mimetype": "text/x-python",
   "name": "python",
   "nbconvert_exporter": "python",
   "pygments_lexer": "ipython3",
   "version": "3.8.1"
  }
 },
 "nbformat": 4,
 "nbformat_minor": 2
}
