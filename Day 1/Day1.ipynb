{
 "cells": [
  {
   "cell_type": "code",
   "execution_count": null,
   "metadata": {},
   "outputs": [],
   "source": [
    "# ADVENT OF CODE\n",
    "# https://adventofcode.com/2020/day/1\n",
    "\n",
    "inputfile = open('input.sql', 'r') \n",
    "\n",
    "numbers = [int(line) for line in inputfile]\n",
    "\n",
    "def getNumbers(data, expected):\n",
    "    for number in data:\n",
    "        found = expected - number\n",
    "        if found in data:\n",
    "            return (found, number)    \n",
    "        \n",
    "    return False\n",
    "\n",
    "def getNumbersTriple(data, expected):\n",
    "    for number in data:\n",
    "        found1 = expected - number        \n",
    "        hasReturn = getNumbers(data, found1)\n",
    "        if hasReturn:\n",
    "            return hasReturn, number"
   ]
  },
  {
   "cell_type": "code",
   "execution_count": null,
   "metadata": {},
   "outputs": [],
   "source": [
    "# ANSWER 1\n",
    "%time num1, num2 = getNumbers(numbers, 2020)\n",
    "print(\"ANSWER 1:\", num1*num2)\n",
    "\n",
    "%time (num1, num2), num3 = getNumbersTriple(numbers, 2020)\n",
    "print(\"ANSWER 2:\", num1*num2*num3)"
   ]
  }
 ],
 "metadata": {
  "kernelspec": {
   "display_name": "Python 3",
   "language": "python",
   "name": "python3"
  },
  "language_info": {
   "codemirror_mode": {
    "name": "ipython",
    "version": 3
   },
   "file_extension": ".py",
   "mimetype": "text/x-python",
   "name": "python",
   "nbconvert_exporter": "python",
   "pygments_lexer": "ipython3",
   "version": "3.8.1"
  }
 },
 "nbformat": 4,
 "nbformat_minor": 4
}
