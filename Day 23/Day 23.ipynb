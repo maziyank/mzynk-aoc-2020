{
 "cells": [
  {
   "cell_type": "code",
   "execution_count": 1,
   "metadata": {},
   "outputs": [],
   "source": [
    "# ADVENT OF CODE\n",
    "# https://adventofcode.com/2020/day/23\n",
    "\n",
    "from tqdm import tqdm\n",
    "\n",
    "# i found this very slow for large list\n",
    "def move(puzzle, simcount):\n",
    "    pz = list(map(int,list(puzzle))) if type(puzzle) is str else puzzle\n",
    "    cpz = pz.copy()  \n",
    "    pos = 0\n",
    "    cpos = cpz[pos]\n",
    "    for i in range(simcount):\n",
    "        cpos = cpz[pos]\n",
    "        pick = cpz[pos+1: pos+4] if pos < len(cpz) - 4 else (cpz + cpz[:4])[pos+1: pos+4]                          \n",
    "        dest = (cpos - 1) if cpos > min(cpz) else max(cpz)\n",
    "        while dest in pick:\n",
    "            if dest == min(cpz): dest = max(cpz)\n",
    "            else: dest -= 1            \n",
    "        \n",
    "        cpz = [elem for elem in cpz if elem not in pick]        \n",
    "        idest = cpz.index(dest)\n",
    "        cpos = cpz[pos+1] if pos < len(cpz) - 1 else cpz[0]\n",
    "        cpz = cpz[:idest+1] + pick + cpz[idest+1:]     \n",
    "                \n",
    "        pos = cpz.index(cpos)\n",
    "\n",
    "    result = ''.join(''.join(map(str,cpz)).split('1'))\n",
    "    \n",
    "    return result"
   ]
  },
  {
   "cell_type": "code",
   "execution_count": 2,
   "metadata": {},
   "outputs": [],
   "source": [
    "def move2(pz, count):\n",
    "    cups = {}\n",
    "    puzzle = list(map(int,list(pz))) if type(pz) is str else pz\n",
    "    \n",
    "    for i, val in enumerate(puzzle):\n",
    "        cups[val] = [val, puzzle[i+1] if i < len(puzzle) - 1 else puzzle[0]]\n",
    "        # 0 for original value, 1 for nextvalue         \n",
    "        \n",
    "    pos = puzzle[0]\n",
    "    min_value, max_value = min(cups), max(cups)\n",
    "    \n",
    "    for i in range(count):\n",
    "        current = cups[pos]\n",
    "        dest = current[0] - 1 if current[0] > min_value else max_value\n",
    "\n",
    "        pick1 = cups[current[1]]\n",
    "        pick2 = cups[pick1[1]]\n",
    "        pick3 = cups[pick2[1]]\n",
    "\n",
    "        while dest in [pick1[0], pick2[0], pick3[0]]:\n",
    "            if dest == min_value: dest = max_value\n",
    "            else: dest -= 1   \n",
    "        \n",
    "        current[1] = pick3[1]\n",
    "        cups[pick2[1]][1] = cups[dest][1]\n",
    "        cups[dest][1] = pick1[0]\n",
    "        \n",
    "        pos = current[1]\n",
    "    \n",
    "    hidden = cups[cups[1][1]]\n",
    "    return (hidden[0] * hidden[0], hidden)"
   ]
  },
  {
   "cell_type": "markdown",
   "metadata": {},
   "source": [
    "## PROBLEM 1"
   ]
  },
  {
   "cell_type": "code",
   "execution_count": 3,
   "metadata": {},
   "outputs": [
    {
     "name": "stdout",
     "output_type": "stream",
     "text": [
      "Wall time: 0 ns\n"
     ]
    },
    {
     "data": {
      "text/plain": [
       "'82635947'"
      ]
     },
     "execution_count": 3,
     "metadata": {},
     "output_type": "execute_result"
    }
   ],
   "source": [
    "%time move(\"685974213\", 100)"
   ]
  },
  {
   "cell_type": "markdown",
   "metadata": {},
   "source": [
    "## PROBLEM 2"
   ]
  },
  {
   "cell_type": "code",
   "execution_count": 4,
   "metadata": {},
   "outputs": [
    {
     "name": "stdout",
     "output_type": "stream",
     "text": [
      "Wall time: 21.4 s\n"
     ]
    },
    {
     "data": {
      "text/plain": [
       "(221838174009, [470997, 333437])"
      ]
     },
     "execution_count": 4,
     "metadata": {},
     "output_type": "execute_result"
    }
   ],
   "source": [
    "%time newpuzzle = lambda x: list(map(int,list(x))) + list(range(10, 1000001))\n",
    "%time move2(newpuzzle(\"685974213\"), 10000000)"
   ]
  }
 ],
 "metadata": {
  "kernelspec": {
   "display_name": "Python 3",
   "language": "python",
   "name": "python3"
  },
  "language_info": {
   "codemirror_mode": {
    "name": "ipython",
    "version": 3
   },
   "file_extension": ".py",
   "mimetype": "text/x-python",
   "name": "python",
   "nbconvert_exporter": "python",
   "pygments_lexer": "ipython3",
   "version": "3.8.1"
  }
 },
 "nbformat": 4,
 "nbformat_minor": 4
}
