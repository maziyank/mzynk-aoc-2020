{
 "cells": [
  {
   "cell_type": "code",
   "execution_count": 249,
   "metadata": {},
   "outputs": [],
   "source": [
    "# ADVENT OF CODE\n",
    "# https://adventofcode.com/2020/day/13\n",
    "\n",
    "# PREPARE DATA\n",
    "inputfile = open('input.sql', 'r')\n",
    "reads = [line.strip() for line in inputfile]"
   ]
  },
  {
   "cell_type": "markdown",
   "metadata": {},
   "source": [
    "## PROBLEM 1"
   ]
  },
  {
   "cell_type": "code",
   "execution_count": 250,
   "metadata": {},
   "outputs": [],
   "source": [
    "timestamp = int(reads[0])\n",
    "busIDS = [int(x) for x in reads[1].split(\",\") if x != 'x']"
   ]
  },
  {
   "cell_type": "code",
   "execution_count": 251,
   "metadata": {},
   "outputs": [
    {
     "data": {
      "text/plain": [
       "'ANSWER : 3269'"
      ]
     },
     "execution_count": 251,
     "metadata": {},
     "output_type": "execute_result"
    }
   ],
   "source": [
    "def findEarliestBus(timestamp, busIDS):\n",
    "    next_timestamps = list(map(lambda x: ((timestamp // x + 1) * x, x), busIDS))\n",
    "    return min([(ts - timestamp, busId) for ts, busId in next_timestamps])\n",
    "\n",
    "ts, busId = findEarliestBus(timestamp, busIDS)\n",
    "\"ANSWER : \" + str(ts * busId)"
   ]
  },
  {
   "cell_type": "markdown",
   "metadata": {},
   "source": [
    "## PROBLEM 2"
   ]
  },
  {
   "cell_type": "code",
   "execution_count": 252,
   "metadata": {},
   "outputs": [],
   "source": [
    "def findEarliestTimeStamp():\n",
    "    busIDS = [(int(x), i) for i,x in enumerate(reads[1].split(\",\")) if x != 'x']\n",
    "    ts = busIDS[0][0]\n",
    "    diff = 1\n",
    "    for x, i in busIDS:        \n",
    "        while True:            \n",
    "            if (ts + i) % x == 0:\n",
    "                diff *= x\n",
    "                break\n",
    "            else:\n",
    "                ts += diff                \n",
    "    return ts\n",
    "                "
   ]
  },
  {
   "cell_type": "code",
   "execution_count": 253,
   "metadata": {},
   "outputs": [
    {
     "name": "stdout",
     "output_type": "stream",
     "text": [
      "Wall time: 1e+03 µs\n"
     ]
    },
    {
     "data": {
      "text/plain": [
       "672754131923874"
      ]
     },
     "execution_count": 253,
     "metadata": {},
     "output_type": "execute_result"
    }
   ],
   "source": [
    "%time findEarliestTimeStamp()"
   ]
  },
  {
   "cell_type": "code",
   "execution_count": null,
   "metadata": {},
   "outputs": [],
   "source": []
  }
 ],
 "metadata": {
  "kernelspec": {
   "display_name": "Python 3",
   "language": "python",
   "name": "python3"
  },
  "language_info": {
   "codemirror_mode": {
    "name": "ipython",
    "version": 3
   },
   "file_extension": ".py",
   "mimetype": "text/x-python",
   "name": "python",
   "nbconvert_exporter": "python",
   "pygments_lexer": "ipython3",
   "version": "3.8.1"
  }
 },
 "nbformat": 4,
 "nbformat_minor": 4
}
