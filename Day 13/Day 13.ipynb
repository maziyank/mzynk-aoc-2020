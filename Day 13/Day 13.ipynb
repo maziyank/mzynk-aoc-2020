{
 "cells": [
  {
   "cell_type": "code",
   "execution_count": 1,
   "metadata": {},
   "outputs": [],
   "source": [
    "# ADVENT OF CODE\n",
    "# https://adventofcode.com/2020/day/13\n",
    "\n",
    "# PREPARE DATA\n",
    "inputfile = open('sample.sql', 'r')\n",
    "reads = [line.strip() for line in inputfile]"
   ]
  },
  {
   "cell_type": "markdown",
   "metadata": {},
   "source": [
    "## PROBLEM 1"
   ]
  },
  {
   "cell_type": "code",
   "execution_count": 2,
   "metadata": {},
   "outputs": [],
   "source": [
    "timestamp = int(reads[0])\n",
    "busIDS = [int(x) for x in reads[1].split(\",\") if x != 'x']"
   ]
  },
  {
   "cell_type": "code",
   "execution_count": 3,
   "metadata": {},
   "outputs": [
    {
     "data": {
      "text/plain": [
       "'ANSWER : 295'"
      ]
     },
     "execution_count": 3,
     "metadata": {},
     "output_type": "execute_result"
    }
   ],
   "source": [
    "def findEarliestBus(timestamp, busIDS):\n",
    "    next_timestamps = list(map(lambda x: ((timestamp // x + 1) * x, x), busIDS))\n",
    "    return min([(ts - timestamp, busId) for ts, busId in next_timestamps])\n",
    "\n",
    "ts, busId = findEarliestBus(timestamp, busIDS)\n",
    "\"ANSWER : \" + str(ts * busId)"
   ]
  },
  {
   "cell_type": "markdown",
   "metadata": {},
   "source": [
    "## PROBLEM 2"
   ]
  },
  {
   "cell_type": "code",
   "execution_count": 4,
   "metadata": {},
   "outputs": [],
   "source": [
    "def findEarliestTimeStamp(start):\n",
    "    busIDS = sorted([(int(x), i) for i,x in enumerate(reads[1].split(\",\")) if x != 'x'], reverse=True)\n",
    "    index0 = busIDS[0][1]\n",
    "    base0 = busIDS[0][0]\n",
    "    timelapse = start\n",
    "    while True:              \n",
    "        timelapse = timelapse + base0            \n",
    "        test = True\n",
    "\n",
    "        for x, i in busIDS[1:]:                    \n",
    "            test = (timelapse - index0 + i) % x == 0    \n",
    "            if test == False:                    \n",
    "                break\n",
    "                        \n",
    "        if test:\n",
    "            return timelapse - index0, test"
   ]
  },
  {
   "cell_type": "code",
   "execution_count": 5,
   "metadata": {},
   "outputs": [
    {
     "name": "stdout",
     "output_type": "stream",
     "text": [
      "Wall time: 20 ms\n"
     ]
    },
    {
     "data": {
      "text/plain": [
       "(1068781, True)"
      ]
     },
     "execution_count": 5,
     "metadata": {},
     "output_type": "execute_result"
    }
   ],
   "source": [
    "%time findEarliestTimeStamp(0)"
   ]
  },
  {
   "cell_type": "code",
   "execution_count": null,
   "metadata": {},
   "outputs": [],
   "source": []
  }
 ],
 "metadata": {
  "kernelspec": {
   "display_name": "Python 3",
   "language": "python",
   "name": "python3"
  },
  "language_info": {
   "codemirror_mode": {
    "name": "ipython",
    "version": 3
   },
   "file_extension": ".py",
   "mimetype": "text/x-python",
   "name": "python",
   "nbconvert_exporter": "python",
   "pygments_lexer": "ipython3",
   "version": "3.8.1"
  }
 },
 "nbformat": 4,
 "nbformat_minor": 4
}
