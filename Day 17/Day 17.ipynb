{
 "cells": [
  {
   "cell_type": "code",
   "execution_count": 1,
   "metadata": {},
   "outputs": [],
   "source": [
    "# ADVENT OF CODE\n",
    "# https://adventofcode.com/2020/day/17\n",
    "# PREPARE DATA\n",
    "inputfile = open('input.sql', 'r')\n",
    "cubes = [line.rstrip() for line in inputfile]"
   ]
  },
  {
   "cell_type": "markdown",
   "metadata": {},
   "source": [
    "## PROBLEM 1"
   ]
  },
  {
   "cell_type": "code",
   "execution_count": 2,
   "metadata": {},
   "outputs": [],
   "source": [
    "def getNeighboursIn3DSpace(x, y, z):\n",
    "    base = [-1,0,1]\n",
    "    n = set([(x1+x, y1+y, z1+z) for x1 in base for y1 in base for z1 in base])                             \n",
    "    n.discard((x, y, z))\n",
    "    return n\n",
    "\n",
    "def applyCycle3DSpace(cubes, cycle_number):   \n",
    "    # initial active cubes coordinates\n",
    "    active_cubes = set([(x,y,0) for y in range(len(cubes)) for x in range(len(cubes)) if cubes[x][y] == \"#\"])                 \n",
    "    space_x, space_y, space_z = len(cubes), len(cubes[0]), 1               \n",
    "    for cycle in range(cycle_number):\n",
    "        new_actives, new_inactives = set(), set()\n",
    "        for x in range(-(space_x + cycle), space_x+cycle+1):\n",
    "            for y in range(-(space_y + cycle), space_y+cycle+1):\n",
    "                for z in range(-(space_z + cycle), space_z+cycle+1):\n",
    "                    active_neighbours = len([x for x in getNeighboursIn3DSpace(x, y, z) if x in active_cubes])\n",
    "                    new_inactives.add((x, y, z) if (x, y, z) in active_cubes and active_neighbours not in [2,3] else ())\n",
    "                    new_actives.add((x, y, z) if (x, y, z) not in active_cubes and active_neighbours == 3 else ())\n",
    "        \n",
    "        active_cubes = active_cubes ^ new_inactives\n",
    "        active_cubes.update(set([x for x in new_actives if x != ()]))\n",
    "        print(\"cycle \"+ str(cycle+1) + \": \"+ str(len(active_cubes)))                "
   ]
  },
  {
   "cell_type": "code",
   "execution_count": 3,
   "metadata": {},
   "outputs": [
    {
     "name": "stdout",
     "output_type": "stream",
     "text": [
      "cycle 1: 48\n",
      "cycle 2: 69\n",
      "cycle 3: 101\n",
      "cycle 4: 122\n",
      "cycle 5: 217\n",
      "cycle 6: 207\n",
      "Wall time: 310 ms\n"
     ]
    }
   ],
   "source": [
    "%time applyCycle3DSpace(cubes, 6)"
   ]
  },
  {
   "cell_type": "markdown",
   "metadata": {},
   "source": [
    "## PROBLEM 2"
   ]
  },
  {
   "cell_type": "code",
   "execution_count": 4,
   "metadata": {},
   "outputs": [],
   "source": [
    "def getNeighboursIn4DSpace(x, y, z, a):\n",
    "    base = [-1,0,1]\n",
    "    n = set([(x1+x, y1+y, z1+z, a1+a) for a1 in base for x1 in base for y1 in base for z1 in base])                             \n",
    "    n.discard((x, y, z, a))\n",
    "    return n\n",
    "\n",
    "def applyCycle4DSpace(cubes, cycle_number):      \n",
    "    # initial active cubes coordinates\n",
    "    active_cubes = set([(x,y,0,0) for y in range(len(cubes)) for x in range(len(cubes)) if cubes[x][y] == \"#\"])                 \n",
    "    space_x, space_y, space_z, space_a = len(cubes), len(cubes[0]), 1, 1              \n",
    "    for cycle in range(cycle_number):\n",
    "        new_actives, new_inactives = set(), set()\n",
    "        for x in range(-(space_x + cycle), space_x+cycle+1):\n",
    "            for y in range(-(space_y + cycle), space_y+cycle+1):\n",
    "                for z in range(-(space_z + cycle), space_z+cycle+1):\n",
    "                    for a in range(-(space_a + cycle), space_a+cycle+1):\n",
    "                        active_neighbours = len([x for x in getNeighboursIn4DSpace(x, y, z, a) if x in active_cubes])\n",
    "                        new_inactives.add((x, y, z, a) if (x, y, z, a) in active_cubes and active_neighbours not in [2,3] else ())\n",
    "                        new_actives.add((x, y, z, a) if (x, y, z, a) not in active_cubes and active_neighbours == 3 else ())\n",
    "\n",
    "        active_cubes = active_cubes ^ new_inactives\n",
    "        active_cubes.update(set([x for x in new_actives if x != ()]))\n",
    "        print(\"cycle \"+ str(cycle+1) + \": \"+ str(len(active_cubes)))                "
   ]
  },
  {
   "cell_type": "code",
   "execution_count": 5,
   "metadata": {},
   "outputs": [
    {
     "name": "stdout",
     "output_type": "stream",
     "text": [
      "cycle 1: 126\n",
      "cycle 2: 192\n",
      "cycle 3: 781\n",
      "cycle 4: 604\n",
      "cycle 5: 2129\n",
      "cycle 6: 2308\n"
     ]
    }
   ],
   "source": [
    "applyCycle4DSpace(cubes, 6)"
   ]
  },
  {
   "cell_type": "code",
   "execution_count": null,
   "metadata": {},
   "outputs": [],
   "source": []
  }
 ],
 "metadata": {
  "kernelspec": {
   "display_name": "Python 3",
   "language": "python",
   "name": "python3"
  },
  "language_info": {
   "codemirror_mode": {
    "name": "ipython",
    "version": 3
   },
   "file_extension": ".py",
   "mimetype": "text/x-python",
   "name": "python",
   "nbconvert_exporter": "python",
   "pygments_lexer": "ipython3",
   "version": "3.8.1"
  }
 },
 "nbformat": 4,
 "nbformat_minor": 4
}
