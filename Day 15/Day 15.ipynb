{
 "cells": [
  {
   "cell_type": "code",
   "execution_count": 1,
   "metadata": {},
   "outputs": [],
   "source": [
    "# ADVENT OF CODE\n",
    "# https://adventofcode.com/2020/day/15\n",
    "# PREPARE DATA\n",
    "inputfile = open('input.sql', 'r')\n",
    "numbers = [line.strip() for line in inputfile]\n",
    "puzzle = list(map(int, numbers[0].split(',')))"
   ]
  },
  {
   "cell_type": "code",
   "execution_count": 2,
   "metadata": {},
   "outputs": [],
   "source": [
    "def getNumber(max_turn, puzzle):\n",
    "    turn, last_spoken = 0, -1     \n",
    "    memory, pzzl_len = {}, len(puzzle)\n",
    " \n",
    "    while turn < pzzl_len:               \n",
    "        last_spoken, memory[last_spoken] = puzzle[turn], (0, turn)       \n",
    "        turn += 1  \n",
    "\n",
    "    while turn < max_turn:      \n",
    "        stored_val = memory[last_spoken]\n",
    "        last_spoken = stored_val[0]\n",
    "        stored_for_future = turn - memory[last_spoken][1] if last_spoken in memory.keys() else 0\n",
    "        memory[last_spoken] = (stored_for_future, turn)         \n",
    "        turn += 1\n",
    "            \n",
    "    return last_spoken"
   ]
  },
  {
   "cell_type": "code",
   "execution_count": 3,
   "metadata": {},
   "outputs": [
    {
     "name": "stdout",
     "output_type": "stream",
     "text": [
      "Wall time: 2 ms\n"
     ]
    },
    {
     "data": {
      "text/plain": [
       "694"
      ]
     },
     "execution_count": 3,
     "metadata": {},
     "output_type": "execute_result"
    }
   ],
   "source": [
    "%time getNumber(2020, puzzle)"
   ]
  },
  {
   "cell_type": "code",
   "execution_count": 4,
   "metadata": {},
   "outputs": [
    {
     "name": "stdout",
     "output_type": "stream",
     "text": [
      "Wall time: 29.2 s\n"
     ]
    },
    {
     "data": {
      "text/plain": [
       "21768614"
      ]
     },
     "execution_count": 4,
     "metadata": {},
     "output_type": "execute_result"
    }
   ],
   "source": [
    "%time getNumber(30000000, puzzle)"
   ]
  },
  {
   "cell_type": "code",
   "execution_count": null,
   "metadata": {},
   "outputs": [],
   "source": []
  }
 ],
 "metadata": {
  "kernelspec": {
   "display_name": "Python 3",
   "language": "python",
   "name": "python3"
  },
  "language_info": {
   "codemirror_mode": {
    "name": "ipython",
    "version": 3
   },
   "file_extension": ".py",
   "mimetype": "text/x-python",
   "name": "python",
   "nbconvert_exporter": "python",
   "pygments_lexer": "ipython3",
   "version": "3.8.1"
  }
 },
 "nbformat": 4,
 "nbformat_minor": 4
}
