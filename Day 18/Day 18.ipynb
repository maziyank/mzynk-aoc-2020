{
 "cells": [
  {
   "cell_type": "code",
   "execution_count": 1,
   "metadata": {},
   "outputs": [],
   "source": [
    "# ADVENT OF CODE\n",
    "# https://adventofcode.com/2020/day/19\n",
    "\n",
    "# PREPARE DATA\n",
    "inputfile = open('input.sql', 'r')\n",
    "lines = [line.rstrip() for line in inputfile]"
   ]
  },
  {
   "cell_type": "code",
   "execution_count": 2,
   "metadata": {},
   "outputs": [],
   "source": [
    "import re\n",
    "\n",
    "def captureGroup(text):\n",
    "    result, start, i, sub_found  = [], -1, 0, 0\n",
    "    while i < len(text):\n",
    "        if text[i] == \"(\":\n",
    "            if start == -1: start = i\n",
    "            else: sub_found += 1\n",
    "\n",
    "        if text[i] == \")\": sub_found -= 1            \n",
    "            \n",
    "        if -1 == sub_found:             \n",
    "            result.append(text[start+1: i])\n",
    "            start = -1\n",
    "            sub_found = 0\n",
    "            \n",
    "        i += 1\n",
    "        \n",
    "    return result if len(result) > 0 else text"
   ]
  },
  {
   "cell_type": "code",
   "execution_count": 3,
   "metadata": {},
   "outputs": [],
   "source": [
    "def customEvaluator1(txt):    \n",
    "    while True:\n",
    "        tes = re.search('\\d+\\s(\\+|\\*)\\s\\d+', txt)\n",
    "        if type(tes) is re.Match:\n",
    "            to_eval = txt[tes.start():tes.end()]\n",
    "            txt = txt.replace(to_eval, str(eval(to_eval)), 1)\n",
    "        else:\n",
    "            break\n",
    "        \n",
    "    return int(txt)\n",
    "\n",
    "def customEvaluator2(txt):        \n",
    "    while True:\n",
    "        tes = re.search('\\d+\\s(\\+)\\s\\d+', txt)\n",
    "        if type(tes) is re.Match:\n",
    "            to_eval = txt[tes.start():tes.end()]\n",
    "            txt = txt.replace(to_eval, str(eval(to_eval)), 1)\n",
    "        else:\n",
    "            return eval(txt)\n",
    "        \n",
    "    return int(txt)\n",
    "\n",
    "def evaluateGroup(txt, exprEvaluator):\n",
    "    if '(' not in txt:\n",
    "        return txt\n",
    "    \n",
    "    while True:\n",
    "        founds = captureGroup(txt)    \n",
    "        for found in founds:            \n",
    "            if '(' not in found:\n",
    "                txt = txt.replace('('+found+')', str(exprEvaluator(found)))   \n",
    "            else:\n",
    "                txt = txt.replace(found, evaluateGroup(found, exprEvaluator))\n",
    "        \n",
    "        if '(' not in txt:\n",
    "            break\n",
    "        \n",
    "    return txt\n"
   ]
  },
  {
   "cell_type": "markdown",
   "metadata": {},
   "source": [
    "## ANSWER PROBLEM 1 AND 2"
   ]
  },
  {
   "cell_type": "code",
   "execution_count": 4,
   "metadata": {},
   "outputs": [
    {
     "name": "stdout",
     "output_type": "stream",
     "text": [
      "202553439706\n",
      "88534268715686\n"
     ]
    }
   ],
   "source": [
    "homework1 = [customEvaluator1(evaluateGroup(expr, exprEvaluator = customEvaluator1)) for expr in lines]\n",
    "print(sum(homework1))\n",
    "\n",
    "homework2 = [customEvaluator2(evaluateGroup(expr, exprEvaluator = customEvaluator2)) for expr in lines]\n",
    "print(sum(homework2))"
   ]
  },
  {
   "cell_type": "code",
   "execution_count": null,
   "metadata": {},
   "outputs": [],
   "source": []
  }
 ],
 "metadata": {
  "kernelspec": {
   "display_name": "Python 3",
   "language": "python",
   "name": "python3"
  },
  "language_info": {
   "codemirror_mode": {
    "name": "ipython",
    "version": 3
   },
   "file_extension": ".py",
   "mimetype": "text/x-python",
   "name": "python",
   "nbconvert_exporter": "python",
   "pygments_lexer": "ipython3",
   "version": "3.8.1"
  }
 },
 "nbformat": 4,
 "nbformat_minor": 4
}
