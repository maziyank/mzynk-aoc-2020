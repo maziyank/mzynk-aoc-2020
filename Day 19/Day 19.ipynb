{
 "cells": [
  {
   "cell_type": "code",
   "execution_count": 1,
   "metadata": {},
   "outputs": [],
   "source": [
    "# ADVENT OF CODE\n",
    "# https://adventofcode.com/2020/day/19\n",
    "# PREPARE DATA\n",
    "\n",
    "import re\n",
    "\n",
    "with open('input.sql', 'r') as f:\n",
    "    inputfile = f.read()    \n",
    "    [rules, text_to_check] = inputfile.split('\\n\\n')\n",
    "    rules = dict([tuple(rule.split(': ')) for rule in rules.split('\\n')])\n",
    "    text_to_check = text_to_check.split('\\n')\n",
    "    \n",
    "def parseRule(rule):    \n",
    "    if re.search(r\"\\d+\", rule):\n",
    "        result = re.sub(r\"(\\d+)\", lambda x: '({})'.format(rules[x.group()]) if '|' in rules[x.group()] else rules[x.group()], rule)\n",
    "        return parseRule(result)\n",
    "    else:\n",
    "        return rule.replace('\"','').replace(' ','') \n",
    "    \n",
    "def findMatchedText(pattern, texts):    \n",
    "    return len([text for text in texts if re.match(pattern, text)])"
   ]
  },
  {
   "cell_type": "markdown",
   "metadata": {},
   "source": [
    "## PROBLEM 1"
   ]
  },
  {
   "cell_type": "code",
   "execution_count": 2,
   "metadata": {},
   "outputs": [
    {
     "name": "stdout",
     "output_type": "stream",
     "text": [
      "Wall time: 18 ms\n"
     ]
    },
    {
     "data": {
      "text/plain": [
       "171"
      ]
     },
     "execution_count": 2,
     "metadata": {},
     "output_type": "execute_result"
    }
   ],
   "source": [
    "%time findMatchedText(('^' +parseRule(rules[\"0\"])  + '$'),text_to_check)"
   ]
  },
  {
   "cell_type": "markdown",
   "metadata": {},
   "source": [
    "## PROBLEM 2"
   ]
  },
  {
   "cell_type": "code",
   "execution_count": 4,
   "metadata": {
    "scrolled": true
   },
   "outputs": [
    {
     "name": "stdout",
     "output_type": "stream",
     "text": [
      "Wall time: 42.1 ms\n"
     ]
    },
    {
     "data": {
      "text/plain": [
       "369"
      ]
     },
     "execution_count": 4,
     "metadata": {},
     "output_type": "execute_result"
    }
   ],
   "source": [
    "# 0 > 8 11 > 42* 42 * 31 > 42* 42* 31*\n",
    "# 42 Repetition > 31 Repetition\n",
    "# will be infinite, but i only try until 7 until value is not changed\n",
    "\n",
    "def countRepetitiveMessage():\n",
    "    found = 0\n",
    "    for i in range(2, 7):\n",
    "        CustomRules1 = '(' + parseRule(rules[\"42\"]) + ')' + '{'+ str(i) +'}'\n",
    "        for j in range(1, i):        \n",
    "            CustomRules2 = '(' + parseRule(rules[\"31\"]) + ')' + '{'+ str(i-j) +'}'\n",
    "            CustomRulesCombined = '^('+ CustomRules1 + CustomRules2  +')$'\n",
    "            found += findMatchedText(CustomRulesCombined,text_to_check)\n",
    "\n",
    "    return found\n",
    "\n",
    "%time countRepetitiveMessage()"
   ]
  },
  {
   "cell_type": "code",
   "execution_count": null,
   "metadata": {},
   "outputs": [],
   "source": []
  }
 ],
 "metadata": {
  "kernelspec": {
   "display_name": "Python 3",
   "language": "python",
   "name": "python3"
  },
  "language_info": {
   "codemirror_mode": {
    "name": "ipython",
    "version": 3
   },
   "file_extension": ".py",
   "mimetype": "text/x-python",
   "name": "python",
   "nbconvert_exporter": "python",
   "pygments_lexer": "ipython3",
   "version": "3.8.1"
  }
 },
 "nbformat": 4,
 "nbformat_minor": 4
}
