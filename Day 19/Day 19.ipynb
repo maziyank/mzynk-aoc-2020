{
 "cells": [
  {
   "cell_type": "code",
   "execution_count": 1,
   "metadata": {},
   "outputs": [],
   "source": [
    "# ADVENT OF CODE\n",
    "# https://adventofcode.com/2020/day/19\n",
    "# PREPARE DATA\n",
    "\n",
    "import re\n",
    "\n",
    "with open('input.sql', 'r') as f:\n",
    "    inputfile = f.read()    \n",
    "    [rules, monkeyMessages] = inputfile.split('\\n\\n')\n",
    "    rules = dict([tuple(rule.split(': ')) for rule in rules.split('\\n')])\n",
    "    monkeyMessages = monkeyMessages.split('\\n')\n",
    "    \n",
    "def parseRule(rule):    \n",
    "    if re.search(r\"\\d+\", rule):\n",
    "        result = re.sub(r\"(\\d+)\", lambda x: '({})'.format(rules[x.group()]) if '|' in rules[x.group()] else rules[x.group()], rule)\n",
    "        return parseRule(result)\n",
    "    else:\n",
    "        return rule.replace('\"','').replace(' ','') \n",
    "    \n",
    "def findMatchedText(pattern, texts):    \n",
    "    return len([text for text in texts if re.match(pattern, text)])"
   ]
  },
  {
   "cell_type": "markdown",
   "metadata": {},
   "source": [
    "## PROBLEM 1"
   ]
  },
  {
   "cell_type": "code",
   "execution_count": 2,
   "metadata": {},
   "outputs": [
    {
     "name": "stdout",
     "output_type": "stream",
     "text": [
      "Wall time: 18 ms\n"
     ]
    },
    {
     "data": {
      "text/plain": [
       "171"
      ]
     },
     "execution_count": 2,
     "metadata": {},
     "output_type": "execute_result"
    }
   ],
   "source": [
    "%time findMatchedText(('^' +parseRule(rules[\"0\"])  + '$'),monkeyMessages)"
   ]
  },
  {
   "cell_type": "markdown",
   "metadata": {},
   "source": [
    "## PROBLEM 2"
   ]
  },
  {
   "cell_type": "code",
   "execution_count": 3,
   "metadata": {
    "scrolled": true
   },
   "outputs": [
    {
     "name": "stdout",
     "output_type": "stream",
     "text": [
      "Wall time: 64 ms\n"
     ]
    },
    {
     "data": {
      "text/plain": [
       "369"
      ]
     },
     "execution_count": 3,
     "metadata": {},
     "output_type": "execute_result"
    }
   ],
   "source": [
    "# 0 > 8 11 > 42* 42 * 31 > 42* 42* 31*\n",
    "# 42 Repetition > 31 Repetition\n",
    "# will be infinite, but i only try until 7 until value is not changed\n",
    "\n",
    "def countRepetitiveMessage(messages):\n",
    "    found = 0\n",
    "    rule42regex = parseRule(rules[\"42\"])\n",
    "    rule31regex = parseRule(rules[\"31\"])    \n",
    "    for i in range(2, 7):\n",
    "        CustomRules1 = \"({}){{{}}}\".format(rule42regex, i)\n",
    "        CustomRules2 = \"({}){{1,{}}}\".format(rule31regex, (i - 1))        \n",
    "        CustomRulesCombined = '^{}{}$'.format(CustomRules1,CustomRules2)\n",
    "        found += findMatchedText(CustomRulesCombined,messages)\n",
    "    return found\n",
    "\n",
    "%time countRepetitiveMessage(monkeyMessages)"
   ]
  },
  {
   "cell_type": "markdown",
   "metadata": {},
   "source": [
    "#### One Liner Solution"
   ]
  },
  {
   "cell_type": "code",
   "execution_count": 4,
   "metadata": {},
   "outputs": [
    {
     "name": "stdout",
     "output_type": "stream",
     "text": [
      "Wall time: 17 ms\n"
     ]
    },
    {
     "data": {
      "text/plain": [
       "369"
      ]
     },
     "execution_count": 4,
     "metadata": {},
     "output_type": "execute_result"
    }
   ],
   "source": [
    "def countRepetitiveMessage2(messages,r31rx, r42rx, maxrepetition):\n",
    "    result = [findMatchedText(\"^({}){{{}}}({}){{1,{}}}$\".format(r42rx, i, r31rx, i - 1),messages) for i in range(2, maxrepetition)]\n",
    "    return sum(result)\n",
    "\n",
    "%time countRepetitiveMessage2(monkeyMessages, parseRule(rules[\"31\"]), parseRule(rules[\"42\"]), 7)"
   ]
  },
  {
   "cell_type": "code",
   "execution_count": null,
   "metadata": {},
   "outputs": [],
   "source": []
  }
 ],
 "metadata": {
  "kernelspec": {
   "display_name": "Python 3",
   "language": "python",
   "name": "python3"
  },
  "language_info": {
   "codemirror_mode": {
    "name": "ipython",
    "version": 3
   },
   "file_extension": ".py",
   "mimetype": "text/x-python",
   "name": "python",
   "nbconvert_exporter": "python",
   "pygments_lexer": "ipython3",
   "version": "3.8.1"
  }
 },
 "nbformat": 4,
 "nbformat_minor": 4
}
