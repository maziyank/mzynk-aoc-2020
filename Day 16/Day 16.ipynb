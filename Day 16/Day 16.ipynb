{
 "cells": [
  {
   "cell_type": "code",
   "execution_count": 1,
   "metadata": {},
   "outputs": [],
   "source": [
    "# ADVENT OF CODE\n",
    "# https://adventofcode.com/2020/day/16\n",
    "# PREPARE DATA\n",
    "\n",
    "inputfile = open('input.sql', 'r')"
   ]
  },
  {
   "cell_type": "code",
   "execution_count": 2,
   "metadata": {},
   "outputs": [],
   "source": [
    "def parsePuzzle():\n",
    "    text = inputfile.read()\n",
    "    parts = text.split(\"\\n\\n\")\n",
    "    rules = parts[0].split(\"\\n\")\n",
    "    ticket = list(map(int,parts[1].replace('your ticket:\\n','').split(',')))\n",
    "    nearby = [list(map(int,x.split(','))) for x in parts[2].replace('nearby tickets:\\n','').split('\\n') if x != '']\n",
    "    return rules, ticket, nearby\n",
    "        "
   ]
  },
  {
   "cell_type": "code",
   "execution_count": 3,
   "metadata": {},
   "outputs": [],
   "source": [
    "import re\n",
    "def getFields(rules):\n",
    "    possible_range, fields = [], []     \n",
    "    for rule in rules:\n",
    "        x = [list(map(int,x.split('-'))) for x in re.findall(\"\\d+-\\d+\", rule)]\n",
    "        field = re.findall(\".*:\", rule)[0].replace(\":\",\"\")\n",
    "        fields.append((field, x))\n",
    "        possible_range.extend(x)\n",
    "        \n",
    "    return possible_range, fields"
   ]
  },
  {
   "cell_type": "code",
   "execution_count": 4,
   "metadata": {},
   "outputs": [],
   "source": [
    "rules, ticket, nearby = parsePuzzle()\n",
    "possible_range, fields = getFields(rules)"
   ]
  },
  {
   "cell_type": "markdown",
   "metadata": {},
   "source": [
    "## PROBLEM 1"
   ]
  },
  {
   "cell_type": "code",
   "execution_count": 5,
   "metadata": {},
   "outputs": [],
   "source": [
    "def getErrorRate(nearby, possible_range):\n",
    "    invalids = []\n",
    "    for x in sum(nearby, []):\n",
    "        valid = False\n",
    "        for minn, maxn in possible_range:\n",
    "            if (minn <= x <= maxn):\n",
    "                valid = True\n",
    "                break\n",
    "\n",
    "        if not valid:\n",
    "            invalids.append(x)\n",
    "\n",
    "    return sum(invalids), invalids"
   ]
  },
  {
   "cell_type": "code",
   "execution_count": 6,
   "metadata": {},
   "outputs": [],
   "source": [
    "count_invalids, invalids = getErrorRate(nearby, possible_range)"
   ]
  },
  {
   "cell_type": "code",
   "execution_count": 7,
   "metadata": {},
   "outputs": [
    {
     "data": {
      "text/plain": [
       "29019"
      ]
     },
     "execution_count": 7,
     "metadata": {},
     "output_type": "execute_result"
    }
   ],
   "source": [
    "count_invalids"
   ]
  },
  {
   "cell_type": "markdown",
   "metadata": {},
   "source": [
    "## PROBLEM 2"
   ]
  },
  {
   "cell_type": "code",
   "execution_count": 8,
   "metadata": {},
   "outputs": [],
   "source": [
    "import math\n",
    "\n",
    "def identifyFields(tickets, fields):\n",
    "    cols, fieldsCandidate = list(map(list, zip(*tickets))), []\n",
    "    \n",
    "    for col in cols:  \n",
    "        resultFields = []\n",
    "        for num in col:\n",
    "            if num not in invalids:\n",
    "                possibleFields = set()\n",
    "                for name, [range1, range2] in fields:\n",
    "                    if (range1[0] <= num <= range1[1] or range2[0] <= num <= range2[1]):\n",
    "                        possibleFields.add(name)            \n",
    "                resultFields.append(possibleFields)        \n",
    "        fieldsCandidate.append(set.intersection(*resultFields))\n",
    "        \n",
    "    fieldsCandidate = list(enumerate(fieldsCandidate))\n",
    "    fieldsCandidate.sort(key = lambda x: len(x[1]))\n",
    "    final_fields, orders = [] , []\n",
    "    \n",
    "    for poss in fieldsCandidate:\n",
    "        x = poss[1] ^ set(final_fields)\n",
    "        final_fields.append(list(x)[0])\n",
    "        orders.append(poss[0])\n",
    "        \n",
    "    return list(zip(final_fields, orders))\n",
    "\n",
    "def MultiplyDepartureFieldsValue(tickets, fields):\n",
    "    values = [ticket[index] for name, index in identifyFields(tickets, fields) if 'departure' in name]\n",
    "    return math.prod(values)"
   ]
  },
  {
   "cell_type": "code",
   "execution_count": 9,
   "metadata": {},
   "outputs": [
    {
     "data": {
      "text/plain": [
       "517827547723"
      ]
     },
     "execution_count": 9,
     "metadata": {},
     "output_type": "execute_result"
    }
   ],
   "source": [
    "MultiplyDepartureFieldsValue(nearby, fields)"
   ]
  }
 ],
 "metadata": {
  "kernelspec": {
   "display_name": "Python 3",
   "language": "python",
   "name": "python3"
  },
  "language_info": {
   "codemirror_mode": {
    "name": "ipython",
    "version": 3
   },
   "file_extension": ".py",
   "mimetype": "text/x-python",
   "name": "python",
   "nbconvert_exporter": "python",
   "pygments_lexer": "ipython3",
   "version": "3.8.1"
  }
 },
 "nbformat": 4,
 "nbformat_minor": 4
}
