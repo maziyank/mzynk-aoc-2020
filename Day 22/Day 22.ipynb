{
 "cells": [
  {
   "cell_type": "code",
   "execution_count": 1,
   "metadata": {},
   "outputs": [],
   "source": [
    "inputfile = open('input.sql').read()\n",
    "players = [player.replace(\"Player 2:\\n\",\"\").replace(\"Player 1:\\n\",\"\").split(\"\\n\") for player in inputfile.split(\"\\n\\n\")]"
   ]
  },
  {
   "cell_type": "code",
   "execution_count": 2,
   "metadata": {},
   "outputs": [],
   "source": [
    "import copy\n",
    "\n",
    "def round(players):\n",
    "    r = 1\n",
    "    while True:             \n",
    "        if (len(players[0])==0 or len(players[1])==0):\n",
    "            winner = players[0] if len(players[1])==0 else players[1]\n",
    "            return (len(players[0]) > 0), winner\n",
    "        else:\n",
    "            if int(players[0][0]) > int(players[1][0]):\n",
    "                players[0].extend([players[0][0], players[1][0]])                \n",
    "            elif int(players[0][0]) < int(players[1][0]):\n",
    "                players[1].extend([players[1][0], players[0][0]])\n",
    "\n",
    "            players[0], players[1] = players[0][1:], players[1][1:]               \n",
    "        \n",
    "        r += 1\n",
    "             \n",
    "def calculate_final_score(deck):\n",
    "    return sum([x*y for x, y in zip(list(map(int,deck)), list(range(len(deck),0,-1)))])\n",
    "\n",
    "def recursive_round(players): \n",
    "    deck_memory = set()\n",
    "        \n",
    "    while True:   \n",
    "        # prevent for winner\n",
    "        if (len(players[0])==0 or len(players[1])==0):\n",
    "            winner = players[0] if len(players[1])== 0 else players[1]\n",
    "            return (len(players[0]) > 0), winner\n",
    "        \n",
    "        # prevent infinite loop\n",
    "        if ((tuple(players[0] ), tuple(players[1] ))) in deck_memory:\n",
    "            return True, players[0] \n",
    "        deck_memory.add((tuple(players[0] ), tuple(players[1] )))           \n",
    "\n",
    "        # play a sub game\n",
    "        if ((len(players[0]) - 1) >= int(players[0][0]) and (len(players[1]) - 1) >= int(players[1][0])):        \n",
    "            new_deck1 = players[0][1:int(players[0][0]) + 1]\n",
    "            new_deck2 = players[1][1:int(players[1][0]) + 1]                \n",
    "\n",
    "            p1subgamewin, result = recursive_round([new_deck1.copy(),new_deck2.copy()])                      \n",
    "            if p1subgamewin: players[0].extend([players[0][0], players[1][0]]) \n",
    "            else: players[1].extend([players[1][0], players[0][0]]) \n",
    "\n",
    "        else:\n",
    "            if int(players[0][0]) > int(players[1][0]):\n",
    "                players[0].extend([players[0][0], players[1][0]])                \n",
    "            else:\n",
    "                players[1].extend([players[1][0], players[0][0]])    \n",
    "\n",
    "        # remove drawn card\n",
    "        players[0], players[1] = players[0][1:], players[1][1:]                  \n",
    "            "
   ]
  },
  {
   "cell_type": "markdown",
   "metadata": {},
   "source": [
    "## PROBLEM 1"
   ]
  },
  {
   "cell_type": "code",
   "execution_count": 3,
   "metadata": {},
   "outputs": [
    {
     "data": {
      "text/plain": [
       "32856"
      ]
     },
     "execution_count": 3,
     "metadata": {},
     "output_type": "execute_result"
    }
   ],
   "source": [
    "p1win, winner_deck = round(copy.deepcopy(players))\n",
    "calculate_final_score(winner_deck)"
   ]
  },
  {
   "cell_type": "markdown",
   "metadata": {},
   "source": [
    "## PROBLEM 2"
   ]
  },
  {
   "cell_type": "code",
   "execution_count": 4,
   "metadata": {},
   "outputs": [
    {
     "data": {
      "text/plain": [
       "33805"
      ]
     },
     "execution_count": 4,
     "metadata": {},
     "output_type": "execute_result"
    }
   ],
   "source": [
    "p1win, winner_deck = recursive_round(copy.deepcopy(players))\n",
    "calculate_final_score(winner_deck)"
   ]
  }
 ],
 "metadata": {
  "kernelspec": {
   "display_name": "Python 3",
   "language": "python",
   "name": "python3"
  },
  "language_info": {
   "codemirror_mode": {
    "name": "ipython",
    "version": 3
   },
   "file_extension": ".py",
   "mimetype": "text/x-python",
   "name": "python",
   "nbconvert_exporter": "python",
   "pygments_lexer": "ipython3",
   "version": "3.8.1"
  }
 },
 "nbformat": 4,
 "nbformat_minor": 4
}
